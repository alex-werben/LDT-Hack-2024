{
 "cells": [
  {
   "metadata": {},
   "cell_type": "markdown",
   "source": "# Imports",
   "id": "a74075cfb65a5a2"
  },
  {
   "cell_type": "code",
   "id": "initial_id",
   "metadata": {
    "collapsed": true,
    "ExecuteTime": {
     "end_time": "2024-06-12T15:14:16.713603Z",
     "start_time": "2024-06-12T15:14:16.711128Z"
    }
   },
   "source": [
    "import pandas as pd\n",
    "import numpy as np\n",
    "import matplotlib.pyplot as plt"
   ],
   "outputs": [],
   "execution_count": 261
  },
  {
   "metadata": {},
   "cell_type": "markdown",
   "source": [
    "# 1.1.1. Получение первичных данных из: АСУПР, ЕДЦ, КГХ, МЖИ, Наш город, ЭВАДЖ (перечень предоставляемой информации из Приложения)\n",
    "\n",
    "Данные:\n",
    "- в 5 приложении есть все источники кроме ЭВАДЖ;\n",
    "- в таблицах много событий, не относящихся к теплоснабжению, их надо фильтровать;\n",
    "\n",
    "Выводы:\n",
    "- Представлено только 12 типов нужных событий в данных, появляются неравномерно;\n",
    "- УНОМ - id дома в системе БТИ, может быть id для дома;"
   ],
   "id": "afd49584db556a7a"
  },
  {
   "metadata": {
    "ExecuteTime": {
     "end_time": "2024-06-12T12:28:30.610023Z",
     "start_time": "2024-06-12T12:28:28.144973Z"
    }
   },
   "cell_type": "code",
   "source": [
    "df_autumn = pd.read_csv(\"../data/events_autumn/events.csv\", delimiter=';')\n",
    "df_spring = pd.read_csv(\"../data/events_spring/events.csv\", delimiter=';')"
   ],
   "id": "f8284e484584ad00",
   "outputs": [],
   "execution_count": 198
  },
  {
   "metadata": {
    "ExecuteTime": {
     "end_time": "2024-06-12T12:28:30.613806Z",
     "start_time": "2024-06-12T12:28:30.611200Z"
    }
   },
   "cell_type": "code",
   "source": "df_autumn.columns",
   "id": "bd9ab91077cd57c4",
   "outputs": [
    {
     "data": {
      "text/plain": [
       "Index(['Наименование', 'Источник', 'Дата создания во внешней системе',\n",
       "       'Дата закрытия', 'Округ', 'УНОМ', 'Адрес',\n",
       "       'Дата и время завершения события'],\n",
       "      dtype='object')"
      ]
     },
     "execution_count": 199,
     "metadata": {},
     "output_type": "execute_result"
    }
   ],
   "execution_count": 199
  },
  {
   "metadata": {
    "ExecuteTime": {
     "end_time": "2024-06-12T12:28:30.634329Z",
     "start_time": "2024-06-12T12:28:30.614593Z"
    }
   },
   "cell_type": "code",
   "source": [
    "# rename columns to easily access them\n",
    "df_autumn.columns = [\"event\", \"source\", \"date_registry\", \"date_close\", \"district\", \"unom\", \"address\", \"datetime_finish_event\"]\n",
    "df_spring.columns = [\"event\", \"source\", \"date_registry\", \"date_close\", \"district\", \"unom\", \"address\", \"datetime_finish_event\"]\n",
    "df_full = pd.concat([df_autumn, df_spring])"
   ],
   "id": "5cb86273f96c54ea",
   "outputs": [],
   "execution_count": 200
  },
  {
   "metadata": {
    "ExecuteTime": {
     "end_time": "2024-06-11T15:58:04.045784Z",
     "start_time": "2024-06-11T15:58:04.004107Z"
    }
   },
   "cell_type": "code",
   "source": "df_full.source.unique()",
   "id": "5401249e1762d9e5",
   "outputs": [
    {
     "data": {
      "text/plain": [
       "array(['ASUPR', 'EDC', 'MGI', 'NG', 'KGH'], dtype=object)"
      ]
     },
     "execution_count": 31,
     "metadata": {},
     "output_type": "execute_result"
    }
   ],
   "execution_count": 31
  },
  {
   "metadata": {
    "ExecuteTime": {
     "end_time": "2024-06-11T15:58:09.415233Z",
     "start_time": "2024-06-11T15:58:09.327798Z"
    }
   },
   "cell_type": "code",
   "source": [
    "# Есть много разных ивентов\n",
    "len(df_full.event.unique())"
   ],
   "id": "65aa9f7cf9ca4414",
   "outputs": [
    {
     "data": {
      "text/plain": [
       "157"
      ]
     },
     "execution_count": 32,
     "metadata": {},
     "output_type": "execute_result"
    }
   ],
   "execution_count": 32
  },
  {
   "metadata": {
    "ExecuteTime": {
     "end_time": "2024-06-11T16:00:48.895180Z",
     "start_time": "2024-06-11T16:00:48.834869Z"
    }
   },
   "cell_type": "code",
   "source": "df_full.event.value_counts()",
   "id": "d84eee8025f461e4",
   "outputs": [
    {
     "data": {
      "text/plain": [
       "event\n",
       "Нет питания УСПД                                    122846\n",
       "Температура в квартире ниже нормативной             101123\n",
       "Наличие снега, наледи                                99282\n",
       "Отсутствие освещения в местах общего пользования     51618\n",
       "Отсутствуют актуальные мгновенные значения           43914\n",
       "                                                     ...  \n",
       "Крупные пожары                                           1\n",
       "Загрязнение/замусоренность павильона                     1\n",
       "Загрязнение почтовых ящиков                              1\n",
       "Пожар                                                    1\n",
       "Несанкционированная свалка                               1\n",
       "Name: count, Length: 157, dtype: int64"
      ]
     },
     "execution_count": 34,
     "metadata": {},
     "output_type": "execute_result"
    }
   ],
   "execution_count": 34
  },
  {
   "metadata": {
    "ExecuteTime": {
     "end_time": "2024-06-11T16:02:48.304474Z",
     "start_time": "2024-06-11T16:02:48.260707Z"
    }
   },
   "cell_type": "code",
   "source": "df_full[df_full.event == \"Недостаточная температура подачи в центральном отоплении (Недотоп)\"]",
   "id": "d601f6260c6e1bb3",
   "outputs": [
    {
     "data": {
      "text/plain": [
       "Empty DataFrame\n",
       "Columns: [event, source, date_registry, date_close, district, unom, address, datetime_finish_event]\n",
       "Index: []"
      ],
      "text/html": [
       "<div>\n",
       "<style scoped>\n",
       "    .dataframe tbody tr th:only-of-type {\n",
       "        vertical-align: middle;\n",
       "    }\n",
       "\n",
       "    .dataframe tbody tr th {\n",
       "        vertical-align: top;\n",
       "    }\n",
       "\n",
       "    .dataframe thead th {\n",
       "        text-align: right;\n",
       "    }\n",
       "</style>\n",
       "<table border=\"1\" class=\"dataframe\">\n",
       "  <thead>\n",
       "    <tr style=\"text-align: right;\">\n",
       "      <th></th>\n",
       "      <th>event</th>\n",
       "      <th>source</th>\n",
       "      <th>date_registry</th>\n",
       "      <th>date_close</th>\n",
       "      <th>district</th>\n",
       "      <th>unom</th>\n",
       "      <th>address</th>\n",
       "      <th>datetime_finish_event</th>\n",
       "    </tr>\n",
       "  </thead>\n",
       "  <tbody>\n",
       "  </tbody>\n",
       "</table>\n",
       "</div>"
      ]
     },
     "execution_count": 38,
     "metadata": {},
     "output_type": "execute_result"
    }
   ],
   "execution_count": 38
  },
  {
   "metadata": {
    "ExecuteTime": {
     "end_time": "2024-06-12T12:55:20.067244Z",
     "start_time": "2024-06-12T12:55:20.064086Z"
    }
   },
   "cell_type": "code",
   "source": [
    "target_events = [\"P1 <= 0\",\n",
    "                \"P2 <= 0\",\n",
    "                \"T1 > max\",\n",
    "                \"T1 < min\",\n",
    "                \"Авария\",\n",
    "                \"Недостаточная температура подачи в центральном отоплении (Недотоп)\",\n",
    "                \"Превышение температуры подачи в центральном отоплении (Перетоп)\",\n",
    "                \"Утечка теплоносителя\",\n",
    "                \"Температура в квартире ниже нормативной\",\n",
    "                \"Отсутствие отопления в доме\",\n",
    "                \"Крупные пожары\",\n",
    "                \"Температура в помещении общего пользования ниже нормативной\",\n",
    "                \"Аварийная протечка труб в подъезде\",\n",
    "                \"Протечка труб в подъезде\",\n",
    "                \"Течь в системе отопления\",\n",
    "                \"Сильная течь в системе отопления\"]"
   ],
   "id": "2c44a2d3847c977b",
   "outputs": [],
   "execution_count": 230
  },
  {
   "metadata": {
    "ExecuteTime": {
     "end_time": "2024-06-12T12:55:22.660747Z",
     "start_time": "2024-06-12T12:55:22.606026Z"
    }
   },
   "cell_type": "code",
   "source": [
    "print(f\"Общее кол-во типов событий по теплоснабжению: {len(target_events)}, \"\n",
    "      f\"среди них в данных представлено {len(df_full[df_full.event.isin(target_events)].event.unique())} типов.\")"
   ],
   "id": "d9e9a6b6b79de197",
   "outputs": [
    {
     "name": "stdout",
     "output_type": "stream",
     "text": [
      "Общее кол-во типов событий по теплоснабжению: 16, среди них в данных представлено 12 типов.\n"
     ]
    }
   ],
   "execution_count": 231
  },
  {
   "metadata": {
    "ExecuteTime": {
     "end_time": "2024-06-11T16:11:37.579890Z",
     "start_time": "2024-06-11T16:11:37.536267Z"
    }
   },
   "cell_type": "code",
   "source": "df_full[df_full.event.isin(target_events)].event.value_counts()",
   "id": "6685cea0e94952f6",
   "outputs": [
    {
     "data": {
      "text/plain": [
       "event\n",
       "Температура в квартире ниже нормативной                        101123\n",
       "T1 > max                                                         5298\n",
       "Отсутствие отопления в доме                                      2433\n",
       "P1 <= 0                                                          1515\n",
       "T1 < min                                                         1439\n",
       "Сильная течь в системе отопления                                  695\n",
       "Температура в помещении общего пользования ниже нормативной       681\n",
       "Течь в системе отопления                                          602\n",
       "P2 <= 0                                                           506\n",
       "Протечка труб в подъезде                                          314\n",
       "Аварийная протечка труб в подъезде                                  3\n",
       "Крупные пожары                                                      1\n",
       "Name: count, dtype: int64"
      ]
     },
     "execution_count": 58,
     "metadata": {},
     "output_type": "execute_result"
    }
   ],
   "execution_count": 58
  },
  {
   "metadata": {
    "ExecuteTime": {
     "end_time": "2024-06-11T16:12:11.452710Z",
     "start_time": "2024-06-11T16:12:11.276608Z"
    }
   },
   "cell_type": "code",
   "source": "df_full[df_full.event.isin(target_events)].event.hist(xrot=90, bins=12);",
   "id": "364fa71d1169971f",
   "outputs": [
    {
     "data": {
      "text/plain": [
       "<Figure size 640x480 with 1 Axes>"
      ],
      "image/png": "[encoded data removed]"
     },
     "metadata": {},
     "output_type": "display_data"
    }
   ],
   "execution_count": 60
  },
  {
   "metadata": {
    "ExecuteTime": {
     "end_time": "2024-06-12T12:05:27.592637Z",
     "start_time": "2024-06-12T12:05:27.544979Z"
    }
   },
   "cell_type": "code",
   "source": "len(df_full[df_full.event.isin(target_events)].unom.unique())",
   "id": "37726b84fdad8aa4",
   "outputs": [
    {
     "data": {
      "text/plain": [
       "4340"
      ]
     },
     "execution_count": 173,
     "metadata": {},
     "output_type": "execute_result"
    }
   ],
   "execution_count": 173
  },
  {
   "metadata": {
    "ExecuteTime": {
     "end_time": "2024-06-12T12:03:55.654895Z",
     "start_time": "2024-06-12T12:03:55.644363Z"
    }
   },
   "cell_type": "code",
   "source": "len(df_full.unom.unique())",
   "id": "2b91168c0637c633",
   "outputs": [
    {
     "data": {
      "text/plain": [
       "5115"
      ]
     },
     "execution_count": 171,
     "metadata": {},
     "output_type": "execute_result"
    }
   ],
   "execution_count": 171
  },
  {
   "metadata": {},
   "cell_type": "markdown",
   "source": "# Признаки",
   "id": "b41cb8787cf64b0f"
  },
  {
   "metadata": {},
   "cell_type": "markdown",
   "source": [
    "## 9 Выгрузка по БТИ\n",
    "\n",
    "- материал - стоит брать\n",
    "- назначение/класс - при улучшении модели можно рассмотреть\n",
    "- из адреса в теории может пригодиться округ или улица, если вдруг что-то поблизости ломалось"
   ],
   "id": "e832f0c687c245f3"
  },
  {
   "metadata": {
    "ExecuteTime": {
     "end_time": "2024-06-12T14:50:43.100049Z",
     "start_time": "2024-06-12T14:50:41.048790Z"
    }
   },
   "cell_type": "code",
   "source": "df9 = pd.read_excel(\"../raw/9. Выгрузка БТИ.xlsx\", skiprows=1)",
   "id": "3c3839f837a45592",
   "outputs": [],
   "execution_count": 232
  },
  {
   "metadata": {
    "ExecuteTime": {
     "end_time": "2024-06-11T17:25:47.115573Z",
     "start_time": "2024-06-11T17:25:47.108727Z"
    }
   },
   "cell_type": "code",
   "source": "df9.head()",
   "id": "b51e98e0fe6b6b6",
   "outputs": [
    {
     "data": {
      "text/plain": [
       "   Unnamed: 0         Город            Административный округ  \\\n",
       "0          15  город Москва  Восточный административный округ   \n",
       "1          17  город Москва  Восточный административный округ   \n",
       "2          18  город Москва  Восточный административный округ   \n",
       "3          19  город Москва  Восточный административный округ   \n",
       "4          53  город Москва  Восточный административный округ   \n",
       "\n",
       "                    Муниципальный округ Населенный пункт  \\\n",
       "0  муниципальный округ Косино-Ухтомский              NaN   \n",
       "1  муниципальный округ Косино-Ухтомский              NaN   \n",
       "2        муниципальный округ Ивановское              NaN   \n",
       "3        муниципальный округ Ивановское              NaN   \n",
       "4  муниципальный округ Косино-Ухтомский              NaN   \n",
       "\n",
       "                     Улица Тип номера дом Номер дома Номер корпуса  \\\n",
       "0     Златоустовская улица            дом         21           NaN   \n",
       "1  Большая Косинская улица            дом        34В           NaN   \n",
       "2         Зелёный проспект            дом        101           NaN   \n",
       "3         Зелёный проспект            дом        103           NaN   \n",
       "4       улица Чёрное Озеро            дом          7             1   \n",
       "\n",
       "  Тип номера строения/сооружения Номер строения  Unnamed: 11  Unnamed: 12  \\\n",
       "0                            NaN            NaN         8450            1   \n",
       "1                            NaN            NaN        51067            1   \n",
       "2                            NaN            NaN         8425            1   \n",
       "3                            NaN            NaN         8426            1   \n",
       "4                            NaN            NaN        28680            1   \n",
       "\n",
       "     Материал                     Назначение  Класс     Тип  Этажность  \\\n",
       "0         NaN                            NaN  жилые  Здание        NaN   \n",
       "1  деревянные  индивидуальное жилое строение  жилые  Здание        1.0   \n",
       "2         NaN                            NaN  жилые  Здание        NaN   \n",
       "3         NaN                            NaN  жилые  Здание        NaN   \n",
       "4         NaN                            NaN  жилые  Здание        NaN   \n",
       "\n",
       "   Признак Общая площадь  \n",
       "0      NaN           NaN  \n",
       "1      NaN          90,1  \n",
       "2      NaN           NaN  \n",
       "3      NaN           NaN  \n",
       "4      NaN           NaN  "
      ],
      "text/html": [
       "<div>\n",
       "<style scoped>\n",
       "    .dataframe tbody tr th:only-of-type {\n",
       "        vertical-align: middle;\n",
       "    }\n",
       "\n",
       "    .dataframe tbody tr th {\n",
       "        vertical-align: top;\n",
       "    }\n",
       "\n",
       "    .dataframe thead th {\n",
       "        text-align: right;\n",
       "    }\n",
       "</style>\n",
       "<table border=\"1\" class=\"dataframe\">\n",
       "  <thead>\n",
       "    <tr style=\"text-align: right;\">\n",
       "      <th></th>\n",
       "      <th>Unnamed: 0</th>\n",
       "      <th>Город</th>\n",
       "      <th>Административный округ</th>\n",
       "      <th>Муниципальный округ</th>\n",
       "      <th>Населенный пункт</th>\n",
       "      <th>Улица</th>\n",
       "      <th>Тип номера дом</th>\n",
       "      <th>Номер дома</th>\n",
       "      <th>Номер корпуса</th>\n",
       "      <th>Тип номера строения/сооружения</th>\n",
       "      <th>Номер строения</th>\n",
       "      <th>Unnamed: 11</th>\n",
       "      <th>Unnamed: 12</th>\n",
       "      <th>Материал</th>\n",
       "      <th>Назначение</th>\n",
       "      <th>Класс</th>\n",
       "      <th>Тип</th>\n",
       "      <th>Этажность</th>\n",
       "      <th>Признак</th>\n",
       "      <th>Общая площадь</th>\n",
       "    </tr>\n",
       "  </thead>\n",
       "  <tbody>\n",
       "    <tr>\n",
       "      <th>0</th>\n",
       "      <td>15</td>\n",
       "      <td>город Москва</td>\n",
       "      <td>Восточный административный округ</td>\n",
       "      <td>муниципальный округ Косино-Ухтомский</td>\n",
       "      <td>NaN</td>\n",
       "      <td>Златоустовская улица</td>\n",
       "      <td>дом</td>\n",
       "      <td>21</td>\n",
       "      <td>NaN</td>\n",
       "      <td>NaN</td>\n",
       "      <td>NaN</td>\n",
       "      <td>8450</td>\n",
       "      <td>1</td>\n",
       "      <td>NaN</td>\n",
       "      <td>NaN</td>\n",
       "      <td>жилые</td>\n",
       "      <td>Здание</td>\n",
       "      <td>NaN</td>\n",
       "      <td>NaN</td>\n",
       "      <td>NaN</td>\n",
       "    </tr>\n",
       "    <tr>\n",
       "      <th>1</th>\n",
       "      <td>17</td>\n",
       "      <td>город Москва</td>\n",
       "      <td>Восточный административный округ</td>\n",
       "      <td>муниципальный округ Косино-Ухтомский</td>\n",
       "      <td>NaN</td>\n",
       "      <td>Большая Косинская улица</td>\n",
       "      <td>дом</td>\n",
       "      <td>34В</td>\n",
       "      <td>NaN</td>\n",
       "      <td>NaN</td>\n",
       "      <td>NaN</td>\n",
       "      <td>51067</td>\n",
       "      <td>1</td>\n",
       "      <td>деревянные</td>\n",
       "      <td>индивидуальное жилое строение</td>\n",
       "      <td>жилые</td>\n",
       "      <td>Здание</td>\n",
       "      <td>1.0</td>\n",
       "      <td>NaN</td>\n",
       "      <td>90,1</td>\n",
       "    </tr>\n",
       "    <tr>\n",
       "      <th>2</th>\n",
       "      <td>18</td>\n",
       "      <td>город Москва</td>\n",
       "      <td>Восточный административный округ</td>\n",
       "      <td>муниципальный округ Ивановское</td>\n",
       "      <td>NaN</td>\n",
       "      <td>Зелёный проспект</td>\n",
       "      <td>дом</td>\n",
       "      <td>101</td>\n",
       "      <td>NaN</td>\n",
       "      <td>NaN</td>\n",
       "      <td>NaN</td>\n",
       "      <td>8425</td>\n",
       "      <td>1</td>\n",
       "      <td>NaN</td>\n",
       "      <td>NaN</td>\n",
       "      <td>жилые</td>\n",
       "      <td>Здание</td>\n",
       "      <td>NaN</td>\n",
       "      <td>NaN</td>\n",
       "      <td>NaN</td>\n",
       "    </tr>\n",
       "    <tr>\n",
       "      <th>3</th>\n",
       "      <td>19</td>\n",
       "      <td>город Москва</td>\n",
       "      <td>Восточный административный округ</td>\n",
       "      <td>муниципальный округ Ивановское</td>\n",
       "      <td>NaN</td>\n",
       "      <td>Зелёный проспект</td>\n",
       "      <td>дом</td>\n",
       "      <td>103</td>\n",
       "      <td>NaN</td>\n",
       "      <td>NaN</td>\n",
       "      <td>NaN</td>\n",
       "      <td>8426</td>\n",
       "      <td>1</td>\n",
       "      <td>NaN</td>\n",
       "      <td>NaN</td>\n",
       "      <td>жилые</td>\n",
       "      <td>Здание</td>\n",
       "      <td>NaN</td>\n",
       "      <td>NaN</td>\n",
       "      <td>NaN</td>\n",
       "    </tr>\n",
       "    <tr>\n",
       "      <th>4</th>\n",
       "      <td>53</td>\n",
       "      <td>город Москва</td>\n",
       "      <td>Восточный административный округ</td>\n",
       "      <td>муниципальный округ Косино-Ухтомский</td>\n",
       "      <td>NaN</td>\n",
       "      <td>улица Чёрное Озеро</td>\n",
       "      <td>дом</td>\n",
       "      <td>7</td>\n",
       "      <td>1</td>\n",
       "      <td>NaN</td>\n",
       "      <td>NaN</td>\n",
       "      <td>28680</td>\n",
       "      <td>1</td>\n",
       "      <td>NaN</td>\n",
       "      <td>NaN</td>\n",
       "      <td>жилые</td>\n",
       "      <td>Здание</td>\n",
       "      <td>NaN</td>\n",
       "      <td>NaN</td>\n",
       "      <td>NaN</td>\n",
       "    </tr>\n",
       "  </tbody>\n",
       "</table>\n",
       "</div>"
      ]
     },
     "execution_count": 129,
     "metadata": {},
     "output_type": "execute_result"
    }
   ],
   "execution_count": 129
  },
  {
   "metadata": {
    "ExecuteTime": {
     "end_time": "2024-06-12T14:51:07.624865Z",
     "start_time": "2024-06-12T14:51:07.621099Z"
    }
   },
   "cell_type": "code",
   "source": "df9.columns",
   "id": "77cfa3f33bddd3e",
   "outputs": [
    {
     "data": {
      "text/plain": [
       "Index(['Unnamed: 0', 'Город', 'Административный округ', 'Муниципальный округ',\n",
       "       'Населенный пункт', 'Улица', 'Тип номера дом', 'Номер дома',\n",
       "       'Номер корпуса', 'Тип номера строения/сооружения', 'Номер строения',\n",
       "       'Unnamed: 11', 'Unnamed: 12', 'Материал', 'Назначение', 'Класс', 'Тип',\n",
       "       'Этажность', 'Признак', 'Общая площадь'],\n",
       "      dtype='object')"
      ]
     },
     "execution_count": 235,
     "metadata": {},
     "output_type": "execute_result"
    }
   ],
   "execution_count": 235
  },
  {
   "metadata": {
    "ExecuteTime": {
     "end_time": "2024-06-12T15:26:29.014215Z",
     "start_time": "2024-06-12T15:26:29.008436Z"
    }
   },
   "cell_type": "code",
   "source": "df9.Назначение.unique()",
   "id": "757f994022d977e8",
   "outputs": [
    {
     "data": {
      "text/plain": [
       "array([nan, 'индивидуальное жилое строение', 'многоквартирный дом',\n",
       "       'жилое', 'жилой дом', 'общежитие', 'коттедж', 'интернат',\n",
       "       'блокированный жилой дом', 'жилое строение', 'не определено',\n",
       "       'комплекс многофункциональный', 'переход подземный',\n",
       "       'спецназначение', 'станция общественного транспорта',\n",
       "       'спальный корпус', 'спасательная станция', 'фильтры',\n",
       "       'формовочный цех', 'фотолаборатория', 'химчистка',\n",
       "       'хирургический корпус', 'хладоцентр', 'хлебозавод', 'хлораторная',\n",
       "       'хозблок', 'трансформаторная подстанция',\n",
       "       'хозяйственная постройка', 'хозяйственный корпус',\n",
       "       'холодильная станция', 'холодильник', 'холодильный склад', 'храм',\n",
       "       'хранилище', 'хранилище пленки', 'хранилище рентгенопленки',\n",
       "       'центр обслуживания', 'центр реабилитации', 'церковь',\n",
       "       'здание религиозных собраний', 'автостоянка открытого типа', 'цех',\n",
       "       'цех бетоносмесительный', 'цех колбасный', 'цех кузнечный',\n",
       "       'цех нестанд.оборуд.', 'цех по ремонту', 'цех резки металла',\n",
       "       'цех сборочный', 'цех столярный', 'часовня', 'чебуречная',\n",
       "       'шахматно-шашечный павильон', 'школа', 'школа искусств',\n",
       "       'школа спортивного мастерства', 'школа студия', 'школа-интернат',\n",
       "       'школа-сад', 'школьное', 'школьное учреждение', 'штаб',\n",
       "       'экспедиция', 'элеватор', 'электрогруппа', 'электрокарная',\n",
       "       'электромонтажный цех', 'электроподстанция',\n",
       "       'электротяговая подстанция', 'электроцех', 'электрощитовая',\n",
       "       'энеpгоблок', 'энергокорпус', 'эрлифт', 'эстрада', 'ясли',\n",
       "       'ясли-сад', 'труба дымовая', 'тепловой павильон',\n",
       "       'таможенный терминал', 'столовая и казарма', 'столовая и спортзал',\n",
       "       'столовая и учpеждение', 'столярная мастерская',\n",
       "       'стоматологическая поликлиника', 'сторожка', 'стоянка',\n",
       "       'стоянка машин,гараж', 'стрел.пост', 'строительный участок',\n",
       "       'стройцех', 'сушилка', 'сушильный цех', 'тарный корпус',\n",
       "       'творческие мастерские', 'театр', 'телеателье',\n",
       "       'телемеханический центр', 'теннисный корпус', 'теннисный корт',\n",
       "       'теплица', 'тепловой пункт', 'тепловой узел', 'теплостанция',\n",
       "       'теплоузел', 'терапевтический корпус', 'тех.школа', 'техкорпус',\n",
       "       'техникум', 'техническое здание', 'техническое училище',\n",
       "       'типография', 'тир', 'торговое', 'торговое и бытовое',\n",
       "       'торговое и бытовое обслуживание', 'торговое и учреждение',\n",
       "       'торговый павильон', 'торговый центр', 'трансформаторная',\n",
       "       'трансформаторная и компрессорная', 'радиоузел',\n",
       "       'разгрузочная,транспортная', 'раздевалка',\n",
       "       'распределительная камера', 'распределительная подстанция',\n",
       "       'распределительный пункт', 'растворный узел',\n",
       "       'растворный узел и склад сыпучих материал', 'регулятор',\n",
       "       'ремонтная автомастерская', 'ремонтная зона',\n",
       "       'ремонтная мастерская', 'ремонтно-механический цех',\n",
       "       'ремонтные мастерские', 'ремонтный корпус', 'ремонтный цех',\n",
       "       'рентгенлаборатория', 'рентгеновский архив', 'ресторан',\n",
       "       'родильный дом', 'рубильное отделение', 'рынок', 'рынок кpытый',\n",
       "       'салон-парикмахерская', 'санаторий', 'санаторий-профилакторий',\n",
       "       'санитарное', 'санчасть', 'сарай', 'сауна', 'сбербанк',\n",
       "       'сварочная', 'сварочная мастерская', 'сварочная-кузница',\n",
       "       'сварочный цех', 'свинарник', 'свободн.', 'склад', 'спецпомещение',\n",
       "       'спецпомещение ГО', 'спецшкола', 'спорт.лыжн.база', 'спортзал',\n",
       "       'спортзал,столовая', 'спортивная школа', 'спортивно-бытовой',\n",
       "       'спортивно-оздоровительный комплекс',\n",
       "       'спортивно-тренировочный комплекс', 'спортивное',\n",
       "       'спортивный клуб', 'спортивный комплекс', 'спортивный корпус',\n",
       "       'спортивный павильон', 'справочная', 'стадион', 'станция мед.газа',\n",
       "       'станция нейтрализации', 'станция обезжелезования',\n",
       "       'станция перекачки', 'станция сжатых газов',\n",
       "       'станция скорой помощи', 'станция технического обслуживания',\n",
       "       'стерилизационная', 'стол заказов', 'столовая', 'трибуна',\n",
       "       'троллейбусная станция', 'туалет', 'тяговая подстанция', 'уборная',\n",
       "       'умывальник', 'универмаг', 'универсам', 'университет',\n",
       "       'управление внутренних дел', 'учебно-воспитателный комбинат',\n",
       "       'учебно-воспитательное', 'учебно-лабораторное',\n",
       "       'учебно-лабораторный корпус', 'учебно-методический центр',\n",
       "       'учебно-научное', 'учебно-научное и учреждение',\n",
       "       'учебно-производственное', 'учебно-производственный комбинат',\n",
       "       'учебное', 'учебные мастерские', 'учебный комбинат',\n",
       "       'учебный корпус', 'училище', 'учреждение', 'учреждение и гараж',\n",
       "       'учреждение и казарма', 'учреждение и котельная',\n",
       "       'учреждение и красный уголок', 'учреждение и общепит',\n",
       "       'учреждение и производство', 'учреждение и столовая',\n",
       "       'учреждение и торговое', 'учреждение,мастерские',\n",
       "       'учреждение,проходной пункт', 'учреждение-склад',\n",
       "       'ф-ка по пошиву и ремонту кожизделий', 'фабрика', 'фабрика-кухня',\n",
       "       'фабрика-прачечная', 'физкабинет',\n",
       "       'физкультурно-оздоровительный комплекс', 'прочее использование',\n",
       "       'прочее с производством', 'прочие', 'птичник', 'пункт охраны',\n",
       "       'прочее', 'обсерватория', 'очистные сооружения', 'промышленное',\n",
       "       'пропускной пункт', 'профилактический бокс', 'профилакторий',\n",
       "       'профилакторий для машин', 'профтехучилище', 'проходная',\n",
       "       'нежилое,ГПТУ', 'неотложная медпомощь', 'продуктовый магазин',\n",
       "       'произв.-бытовой корп.и гараж-стоянка', 'произв.подсобный корпус',\n",
       "       'производственная лаборатория', 'производственная мастерская',\n",
       "       'производственно-административное',\n",
       "       'производственно-административный',\n",
       "       'производственно-административный корпус',\n",
       "       'производственно-бытовой корпус',\n",
       "       'производственно-лабораторный корпус', 'производственно-складская',\n",
       "       'производственно-складское', 'производственное', 'склад ГСМ',\n",
       "       'склад баллонов', 'склад горючего', 'склад горючих веществ',\n",
       "       'склад запчастей', 'склад и ЦТП', 'склад и гараж',\n",
       "       'склад и магазин', 'склад и мастерская', 'склад и пищеблок',\n",
       "       'склад и производство', 'склад и торговое', 'склад и учреждение',\n",
       "       'склад кислорода', 'склад кислот и бойлерная', 'склад лакокрасок',\n",
       "       'склад материальный', 'склад металла', 'склад переработки',\n",
       "       'склад подземный', 'склад произв.', 'склад рентгенпленок',\n",
       "       'склад сырья', 'склад химреактивов', 'склад цемента',\n",
       "       'склад ядохимикатов', 'склад,компрессорная', 'склад,учреждение',\n",
       "       'склад-ангар', 'склад-навес', 'склад-овощехранилище',\n",
       "       'склад-производственное', 'складское', 'складское и производство',\n",
       "       'слесарная мастерская', 'сливная станция', 'служ.корпус',\n",
       "       'служебно-бытов.', 'служебное', 'смеситель', 'нежилое',\n",
       "       'общественное питание', 'общественный туалет', 'овощехранилище',\n",
       "       'овощи-фрукты', 'оздоровительный комплекс', 'озонаторная',\n",
       "       'опорно-усилительная станция', 'опытно-производственный участок',\n",
       "       'оранжерея', 'отдел милиции', 'отделение милиции',\n",
       "       'отделение связи', 'отделение судебно-медицинской экспертизы',\n",
       "       'отстойник', 'офис', 'очистная башня', 'проходная будка',\n",
       "       'проходная и охрана', 'проходная контора',\n",
       "       'очистные сооружения ТИЦ (подземные)', 'павильон',\n",
       "       'павильон рынка', 'павильон хоккейно-конькобежный',\n",
       "       'парикмахерская', 'паталого-анатомический корпус',\n",
       "       'патолого-анатомический корпус', 'пекарня', 'пенообразователь',\n",
       "       'переходный пункт', 'пилорама', 'питомник', 'питомник для собак',\n",
       "       'пищеблок', 'плавательный бассейн', 'пленкохранилище', 'подсобное',\n",
       "       'подсобное помещение', 'подсобные цеха-мастерские',\n",
       "       'подсобный корпус', 'подстанция', 'подстанция скорой помощи',\n",
       "       'подстанция электросети', 'подтрибунные помещения',\n",
       "       'пожарная охрана', 'пожарная станция', 'пожарное депо',\n",
       "       'поликлиника', 'посольство', 'пост', 'пост диагностики',\n",
       "       'пост охраны', 'почта', 'почтамт', 'пошивочная мастерская',\n",
       "       'прачечная', 'прачечная детсада', 'предприятие',\n",
       "       'приемное отделение', 'приемный пункт', 'приемный пункт вторсырья',\n",
       "       'приемный пункт стеклопосуды', 'приточная камера',\n",
       "       'приходская школа', 'продбаза', 'продсклад',\n",
       "       'производственное здание', 'производственное и котельная',\n",
       "       'производственное,гараж,котельная', 'производственное,учреждение',\n",
       "       'производственные мастерские', 'производственный корпус',\n",
       "       'производственный корпус и склад', 'производственный цех',\n",
       "       'производство с административно-бытовым', 'переход надземный',\n",
       "       'котельная', 'мастерская и гараж', 'мастерская и склад',\n",
       "       'мастерская по ремонту автотранспорта', 'мастерская скульптора',\n",
       "       'мастерская столярная', 'мастерская художника', 'мастерская,склад',\n",
       "       'мастерские', 'мастерские ремонтные', 'мастерские-кузница',\n",
       "       'мастерские-производство', 'материально-технический склад',\n",
       "       'машинное отделение', 'медвытрезвитель', 'медицинский корпус',\n",
       "       'медицинско-восстановительный центр', 'наркологический диспансер',\n",
       "       'насосная', 'насосная станция', 'научно- исследовательское',\n",
       "       'научно-исслед.и административный корпус',\n",
       "       'научно-производственное', 'научно-технический корпус', 'научное',\n",
       "       'магазин', 'мазутная', 'мазутно-насосная', 'малярная',\n",
       "       'малярный цех', 'манеж', 'манеж конно-спортивный',\n",
       "       'маслоаппаратная', 'маслохранилище', 'мастер.по изгот',\n",
       "       'мастерская', 'мастерская гаража', 'медсанчасть', 'медучилище',\n",
       "       'механические мастерские', 'механический корпус',\n",
       "       'механический участок', 'механический цех', 'модуль', 'мойка',\n",
       "       'мойка автомашин', 'мойка для машин, гараж',\n",
       "       'мойка и авторемонтный цех', 'мойка и мастерская', 'мойка,весовая',\n",
       "       'мойка-гараж', 'молочная кухня', 'молочно-раздаточный пункт',\n",
       "       'морг', 'моторный цех', 'музей', 'музыкальная школа', 'навес',\n",
       "       'лечебница', 'лечебно-производственные мастерские',\n",
       "       'лечебно-производственный', 'лечебно-санитарное', 'завод',\n",
       "       'завод-производство', 'заводоуправление', 'заготовительный цех',\n",
       "       'зал гражданских панихид', 'заправочный пункт', 'зарядная',\n",
       "       'зарядная станция', 'здание общественных организаций',\n",
       "       'зубной кабинет', 'игротека', 'изолятор', 'клуб и столовая',\n",
       "       'клуб столовая', 'книгохранилище',\n",
       "       'кожно-венерологический диспансер', 'колледж',\n",
       "       'колокольня-звонница', 'комбинат',\n",
       "       'комбинат бытового обслуживания', 'комбинат общественного питания',\n",
       "       'коммунально-бытовое', 'лечебно-трудовые мастерские', 'лечебное',\n",
       "       'лечебное-гараж', 'лечебный корпус', 'лицей', 'лукохранилище',\n",
       "       'лыжная база', 'котельная-прачечная', 'красильный цех',\n",
       "       'крестильная', 'кузница', 'культурно-просветительное',\n",
       "       'культурно-спортивный корпус', 'кухня', 'кухня для собак',\n",
       "       'кухня клиническая', 'лаборатория',\n",
       "       'лабораторно-клинический корпус',\n",
       "       'лабораторно-производственный корпус', 'лабораторный корпус',\n",
       "       'лабораторный цех', 'лазарет', 'легкоатлетический манеж', 'ледник',\n",
       "       'лекторий', 'лесопильный цех', 'инженерно-бытовой корпус',\n",
       "       'инженерно-лабораторный корпус', 'инженерный корпус', 'институт',\n",
       "       'инструментальный цех', 'информормационно-вычислительн.центр',\n",
       "       'испытательный комплекс', 'казарма', 'калориферная станция',\n",
       "       'камера задвижек', 'канализационно-насосная станция',\n",
       "       'капустохранилище', 'караульная', 'караульное помещение', 'касса',\n",
       "       'кассовый павильон', 'кафе', 'кафе,магазин', 'кафе-мороженое',\n",
       "       'кафе-пельменная', 'кафе-столовая', 'кафетерий', 'кварт.котельная',\n",
       "       'киноконцертный зал', 'кинолаборатория', 'киностудия', 'кинотеатр',\n",
       "       'кислородная станция', 'кислородная-склад', 'кладовая', 'клуб',\n",
       "       'комната отдыха', 'компрессорная', 'компрессорная станция',\n",
       "       'конденсаторная', 'кондиционер', 'конечная станция',\n",
       "       'конструкторское бюро', 'консультативная поликлинника', 'контора',\n",
       "       'контора и гараж', 'контора-склад', 'конторское',\n",
       "       'контрольно-пропускной пункт', 'контрольно-технический пункт',\n",
       "       'конференц-зал', 'концертный зал', 'коньковый павильон', 'конюшня',\n",
       "       'кормокухня', 'душевой комбинат', 'женская консультация',\n",
       "       'домик теннисный', 'душевая', 'автозаправочная станция', 'дворец',\n",
       "       'дворец бракосочетания', 'дворец культуры', 'дворец пионеров',\n",
       "       'дворец спорта', 'дежурная будка', 'дезинфекционная камера',\n",
       "       'деловой центр', 'депо', 'депо трамвайное',\n",
       "       'деревообрабатывающая мастерская', 'детсад-ясли',\n",
       "       'детская поликлиника', 'детская стоматологическая поликлиника',\n",
       "       'детская техническая станция', 'детские ясли',\n",
       "       'детский дом культуры', 'детский корпус',\n",
       "       'детский лечебный корпус', 'детский сад', 'детский санаторий',\n",
       "       'детское дошкольное учреждение', 'дизельная колонка', 'диспансер',\n",
       "       'диспансер противотуберкулезный', 'диспетчерская',\n",
       "       'диспетчерская и весовая', 'дом детского творчества', 'дом кино',\n",
       "       'дом культуры', 'дом ребенка', 'гараж', 'гараж и ЦТП',\n",
       "       'гараж и бытовое помещение', 'гараж и котельная',\n",
       "       'гараж и производство', 'гараж и проходная', 'гараж и склад',\n",
       "       'гараж и учреждение', 'гараж подземный', 'гараж, цех',\n",
       "       'гараж,кухня', 'гараж,мастерские', 'гараж-стоянка',\n",
       "       'гаражный блок', 'гимназия', 'гинекологический корпус',\n",
       "       'главный корпус', 'госпиталь', 'гостиница', 'градирня',\n",
       "       'гражданская оборона', 'баня', 'автомагазин', 'автомастерская',\n",
       "       'автомобильные весы', 'автосервис', 'автостоянка',\n",
       "       'автостоянка подземная', 'автошкола', 'агрегатная ТП',\n",
       "       'административн. и склад готовой продукц.',\n",
       "       'административно-бытовой', 'административно-бытовой корпус',\n",
       "       'административно-производственное',\n",
       "       'административно-производственный корпус',\n",
       "       'административно-учебное', 'административно-хозяйственный блок',\n",
       "       'административно-хозяйственный корпус', 'АТС', 'АТС и мастерская',\n",
       "       'административное', 'административное здание',\n",
       "       'административное и гараж',\n",
       "       'административное и лабораторный корпус',\n",
       "       'административный корпус', 'административный корпус и котельная',\n",
       "       'академия', 'аккумуляторная', 'ангар', 'аптека', 'архив',\n",
       "       'архив пленки', 'архив рентгенопленки', 'ателье',\n",
       "       'ателье по ремонту', 'ателье пошива и ремонта',\n",
       "       'ацетиленовая будка', 'база', 'база-склад', 'банк',\n",
       "       'банкетный зал', 'баня-прачечная', 'бассейн и спортзал', 'башня',\n",
       "       'бензозаправочный пункт', 'бетоносмесительный корпус',\n",
       "       'библиотека', 'биологическая станция', 'блинная',\n",
       "       'блок вторичного озонирования', 'блок подсобных сооружений',\n",
       "       'блок-пристройка начальных классов', 'блок-станция', 'бойлерная',\n",
       "       'бойня', 'больница', 'бомбоубежище', 'бройлерная',\n",
       "       'будка весовщика', 'будка охраны', 'булочная-кондитерская',\n",
       "       'буфет', 'бытовка', 'бытовое', 'бытовое здание',\n",
       "       'бытовое обслуживание', 'бытовой корпус', 'бытовой цех',\n",
       "       'бытовые помещения', 'бюро пропусков', 'венткамера', 'весовая',\n",
       "       'ветлечебница', 'ветстанция', 'виварий', 'водомерная будка',\n",
       "       'водомерный узел', 'водонапорная башня', 'водонасосная станция',\n",
       "       'водоочистительная станция', 'водоприемник', 'военкомат',\n",
       "       'вольеры для собак', 'вспомогательные службы',\n",
       "       'вспомогательный корпус', 'вторсырье', 'выставка',\n",
       "       'выставочный зал', 'выставочный павильон', 'вычислительный центр',\n",
       "       'газгольдерная', 'газовая котельная', 'газогенераторная',\n",
       "       'газораспределитель', 'газораспределительная станция',\n",
       "       'газораспределительное', 'газорегуляторный пункт', 'газоубежище',\n",
       "       'галерея', 'ВОХР', 'ГАИ', 'ГО гражд.обороны', 'ГРП', 'ГРС', 'ГРУ',\n",
       "       'ЗРУ-зарядно-распределительное устройство', 'КТП', 'НИИ', 'ОГМ',\n",
       "       'ОДС', 'ОТК', 'ПТУ', 'ТП', 'ФОК', 'ЦТП', 'аварийная служба'],\n",
       "      dtype=object)"
      ]
     },
     "execution_count": 288,
     "metadata": {},
     "output_type": "execute_result"
    }
   ],
   "execution_count": 288
  },
  {
   "metadata": {
    "ExecuteTime": {
     "end_time": "2024-06-12T15:26:10.642419Z",
     "start_time": "2024-06-12T15:26:10.637404Z"
    }
   },
   "cell_type": "code",
   "source": "df9 = df9[[\"Unnamed: 11\", \"Материал\", \"Назначение\", \"Класс\"]]",
   "id": "c9b9c45393632b63",
   "outputs": [],
   "execution_count": 287
  },
  {
   "metadata": {
    "ExecuteTime": {
     "end_time": "2024-06-12T15:26:45.627963Z",
     "start_time": "2024-06-12T15:26:45.625023Z"
    }
   },
   "cell_type": "code",
   "source": "df9.columns = [\"unom\", \"material\", \"purpose\", \"class\"]",
   "id": "6fa9ab9ac0966286",
   "outputs": [],
   "execution_count": 289
  },
  {
   "metadata": {
    "ExecuteTime": {
     "end_time": "2024-06-11T17:26:42.634122Z",
     "start_time": "2024-06-11T17:26:42.628737Z"
    }
   },
   "cell_type": "code",
   "source": "df9",
   "id": "ee7a3ea29e033c7e",
   "outputs": [
    {
     "data": {
      "text/plain": [
       "          unom    material\n",
       "0         8450         NaN\n",
       "1        51067  деревянные\n",
       "2         8425         NaN\n",
       "3         8426         NaN\n",
       "4        28680         NaN\n",
       "...        ...         ...\n",
       "16560  5276478         NaN\n",
       "16561  5246967         NaN\n",
       "16562  5298941         NaN\n",
       "16563  5298942         NaN\n",
       "16564  5324277         NaN\n",
       "\n",
       "[16565 rows x 2 columns]"
      ],
      "text/html": [
       "<div>\n",
       "<style scoped>\n",
       "    .dataframe tbody tr th:only-of-type {\n",
       "        vertical-align: middle;\n",
       "    }\n",
       "\n",
       "    .dataframe tbody tr th {\n",
       "        vertical-align: top;\n",
       "    }\n",
       "\n",
       "    .dataframe thead th {\n",
       "        text-align: right;\n",
       "    }\n",
       "</style>\n",
       "<table border=\"1\" class=\"dataframe\">\n",
       "  <thead>\n",
       "    <tr style=\"text-align: right;\">\n",
       "      <th></th>\n",
       "      <th>unom</th>\n",
       "      <th>material</th>\n",
       "    </tr>\n",
       "  </thead>\n",
       "  <tbody>\n",
       "    <tr>\n",
       "      <th>0</th>\n",
       "      <td>8450</td>\n",
       "      <td>NaN</td>\n",
       "    </tr>\n",
       "    <tr>\n",
       "      <th>1</th>\n",
       "      <td>51067</td>\n",
       "      <td>деревянные</td>\n",
       "    </tr>\n",
       "    <tr>\n",
       "      <th>2</th>\n",
       "      <td>8425</td>\n",
       "      <td>NaN</td>\n",
       "    </tr>\n",
       "    <tr>\n",
       "      <th>3</th>\n",
       "      <td>8426</td>\n",
       "      <td>NaN</td>\n",
       "    </tr>\n",
       "    <tr>\n",
       "      <th>4</th>\n",
       "      <td>28680</td>\n",
       "      <td>NaN</td>\n",
       "    </tr>\n",
       "    <tr>\n",
       "      <th>...</th>\n",
       "      <td>...</td>\n",
       "      <td>...</td>\n",
       "    </tr>\n",
       "    <tr>\n",
       "      <th>16560</th>\n",
       "      <td>5276478</td>\n",
       "      <td>NaN</td>\n",
       "    </tr>\n",
       "    <tr>\n",
       "      <th>16561</th>\n",
       "      <td>5246967</td>\n",
       "      <td>NaN</td>\n",
       "    </tr>\n",
       "    <tr>\n",
       "      <th>16562</th>\n",
       "      <td>5298941</td>\n",
       "      <td>NaN</td>\n",
       "    </tr>\n",
       "    <tr>\n",
       "      <th>16563</th>\n",
       "      <td>5298942</td>\n",
       "      <td>NaN</td>\n",
       "    </tr>\n",
       "    <tr>\n",
       "      <th>16564</th>\n",
       "      <td>5324277</td>\n",
       "      <td>NaN</td>\n",
       "    </tr>\n",
       "  </tbody>\n",
       "</table>\n",
       "<p>16565 rows × 2 columns</p>\n",
       "</div>"
      ]
     },
     "execution_count": 134,
     "metadata": {},
     "output_type": "execute_result"
    }
   ],
   "execution_count": 134
  },
  {
   "metadata": {},
   "cell_type": "markdown",
   "source": [
    "## 11. Выгрузка ОДПУ отопление\n",
    "\n",
    "- на 4522 дома данные по отоплению с осени 2023 по январь 2024\n",
    "- полезные данные могут быть по температурным показателям\n",
    "- возможно, обработать как-то временной ряд\n",
    "- есть ошибки, которые могут как-то пригодиться\n",
    "- в .xlsx несколько таблиц, надо открыть все"
   ],
   "id": "c1f09d37a945372f"
  },
  {
   "metadata": {
    "ExecuteTime": {
     "end_time": "2024-06-12T15:22:15.670707Z",
     "start_time": "2024-06-12T15:22:13.636970Z"
    }
   },
   "cell_type": "code",
   "source": "df11 = pd.read_csv(\"../data/11_chauffage.csv\")",
   "id": "b312de3accb75892",
   "outputs": [],
   "execution_count": 271
  },
  {
   "metadata": {
    "ExecuteTime": {
     "end_time": "2024-06-12T12:39:20.048685Z",
     "start_time": "2024-06-12T12:39:20.042566Z"
    }
   },
   "cell_type": "code",
   "source": "len(df11.UNOM.unique())",
   "id": "78a87e1546af9fea",
   "outputs": [
    {
     "data": {
      "text/plain": [
       "4522"
      ]
     },
     "execution_count": 214,
     "metadata": {},
     "output_type": "execute_result"
    }
   ],
   "execution_count": 214
  },
  {
   "metadata": {
    "ExecuteTime": {
     "end_time": "2024-06-12T12:39:21.488567Z",
     "start_time": "2024-06-12T12:39:21.485281Z"
    }
   },
   "cell_type": "code",
   "source": "df11.columns",
   "id": "c8e90658a9032cfb",
   "outputs": [
    {
     "data": {
      "text/plain": [
       "Index(['ID УУ', 'ID ТУ', 'Округ', 'Район', 'Потребители', 'Группа', 'UNOM',\n",
       "       'Адрес', 'Центральное отопление(контур)', 'Марка счетчика ',\n",
       "       'Серия/Номер счетчика', 'Дата', 'Месяц/Год', 'Unit',\n",
       "       'Объём поданого теплоносителя в систему ЦО',\n",
       "       'Объём обратного теплоносителя из системы ЦО',\n",
       "       'Разница между подачей и обраткой(Подмес)',\n",
       "       'Разница между подачей и обраткой(Утечка)', 'Температура подачи',\n",
       "       'Температура обратки', 'Наработка часов счётчика',\n",
       "       'Расход тепловой энергии ', 'Ошибки'],\n",
       "      dtype='object')"
      ]
     },
     "execution_count": 215,
     "metadata": {},
     "output_type": "execute_result"
    }
   ],
   "execution_count": 215
  },
  {
   "metadata": {
    "ExecuteTime": {
     "end_time": "2024-06-12T15:22:16.543042Z",
     "start_time": "2024-06-12T15:22:16.487834Z"
    }
   },
   "cell_type": "code",
   "source": [
    "df11 = df11[[\"UNOM\", \"Район\", \"Месяц/Год\", \"Объём поданого теплоносителя в систему ЦО\", \"Объём обратного теплоносителя из системы ЦО\",\n",
    "      \"Разница между подачей и обраткой(Подмес)\", \"Разница между подачей и обраткой(Утечка)\", \"Температура подачи\",\n",
    "      \"Температура обратки\", \"Наработка часов счётчика\", \"Расход тепловой энергии \", \"Ошибки\"]]"
   ],
   "id": "b5ca36d1dafcfd6c",
   "outputs": [],
   "execution_count": 272
  },
  {
   "metadata": {
    "ExecuteTime": {
     "end_time": "2024-06-12T15:22:25.296854Z",
     "start_time": "2024-06-12T15:22:25.231549Z"
    }
   },
   "cell_type": "code",
   "source": "df11.Район.unique()",
   "id": "fc12bee733b96db9",
   "outputs": [
    {
     "data": {
      "text/plain": [
       "array(['Новокосино', 'Перово', 'Северное Измайлово', 'Измайлово',\n",
       "       'Богородское', 'Сокольники', 'Соколиная Гора', 'Преображенское',\n",
       "       'Восточный', 'Косино-Ухтомский', 'Гольяново', 'Ивановское',\n",
       "       'Восточное Измайлово', 'Вешняки', 'Метрогородок', 'Новогиреево'],\n",
       "      dtype=object)"
      ]
     },
     "execution_count": 273,
     "metadata": {},
     "output_type": "execute_result"
    }
   ],
   "execution_count": 273
  },
  {
   "metadata": {},
   "cell_type": "markdown",
   "source": [
    "## 6. плановые-внеплановые отключения\n",
    "\n",
    "- может пригодиться причина\n",
    "- в будущем, могут пригодиться даты"
   ],
   "id": "4dae52931359f80"
  },
  {
   "metadata": {
    "ExecuteTime": {
     "end_time": "2024-06-11T17:45:30.152989Z",
     "start_time": "2024-06-11T17:45:30.147245Z"
    }
   },
   "cell_type": "code",
   "source": "df6 = pd.read_csv(\"../data/6_plan_noplan_disconnections.csv\")",
   "id": "88eab0bb2fd1d041",
   "outputs": [],
   "execution_count": 163
  },
  {
   "metadata": {
    "ExecuteTime": {
     "end_time": "2024-06-12T15:00:45.264379Z",
     "start_time": "2024-06-12T15:00:45.257766Z"
    }
   },
   "cell_type": "code",
   "source": "df6.Причина.value_counts()",
   "id": "7479c95042a9e03a",
   "outputs": [
    {
     "data": {
      "text/plain": [
       "Причина\n",
       "Установка приборов КИПиА       22\n",
       "Снятие приборов учета          19\n",
       "Замена запорной арматуры       19\n",
       "Замена регулятора              17\n",
       "Установка приборов учета       16\n",
       "Ремонт ВВП                      7\n",
       "Ремонт запорной арматуры        7\n",
       "Определение утечки              5\n",
       "Ремонт участка трубопровода     3\n",
       "Name: count, dtype: int64"
      ]
     },
     "execution_count": 250,
     "metadata": {},
     "output_type": "execute_result"
    }
   ],
   "execution_count": 250
  },
  {
   "metadata": {
    "ExecuteTime": {
     "end_time": "2024-06-11T17:45:59.440022Z",
     "start_time": "2024-06-11T17:45:59.436442Z"
    }
   },
   "cell_type": "code",
   "source": "df6 = df6[[\"УНОМ\", \"Причина\", \"Фактическая дата включения\", \"Фактическая дата отключения\"]]",
   "id": "8fc4653c62f5f12c",
   "outputs": [],
   "execution_count": 165
  },
  {
   "metadata": {
    "ExecuteTime": {
     "end_time": "2024-06-11T17:46:00.252960Z",
     "start_time": "2024-06-11T17:46:00.244832Z"
    }
   },
   "cell_type": "code",
   "source": "df6",
   "id": "b4a9ca6c76408504",
   "outputs": [
    {
     "data": {
      "text/plain": [
       "        УНОМ                   Причина  Фактическая дата включения  \\\n",
       "0      28396  Установка приборов КИПиА  2023-11-14 16:00:00.000000   \n",
       "1      28399  Установка приборов КИПиА  2023-11-14 16:00:00.000000   \n",
       "2      28400  Установка приборов КИПиА  2023-11-14 16:00:00.000000   \n",
       "3    2404752  Установка приборов учета  2023-11-30 15:00:00.000000   \n",
       "4      18228  Установка приборов учета  2023-11-30 15:00:00.000000   \n",
       "..       ...                       ...                         ...   \n",
       "110    18046  Замена запорной арматуры  2024-04-26 16:00:00.000000   \n",
       "111    18039  Замена запорной арматуры  2024-04-26 16:00:00.000000   \n",
       "112    18045  Замена запорной арматуры  2024-04-26 16:00:00.000000   \n",
       "113    18040  Замена запорной арматуры  2024-04-26 16:00:00.000000   \n",
       "114    18037  Замена запорной арматуры  2024-04-26 16:00:00.000000   \n",
       "\n",
       "    Фактическая дата отключения  \n",
       "0    2023-11-14 12:00:00.000000  \n",
       "1    2023-11-14 12:00:00.000000  \n",
       "2    2023-11-14 12:00:00.000000  \n",
       "3    2023-11-30 13:00:00.000000  \n",
       "4    2023-11-30 13:00:00.000000  \n",
       "..                          ...  \n",
       "110  2024-04-26 12:00:00.000000  \n",
       "111  2024-04-26 12:00:00.000000  \n",
       "112  2024-04-26 12:00:00.000000  \n",
       "113  2024-04-26 12:00:00.000000  \n",
       "114  2024-04-26 12:00:00.000000  \n",
       "\n",
       "[115 rows x 4 columns]"
      ],
      "text/html": [
       "<div>\n",
       "<style scoped>\n",
       "    .dataframe tbody tr th:only-of-type {\n",
       "        vertical-align: middle;\n",
       "    }\n",
       "\n",
       "    .dataframe tbody tr th {\n",
       "        vertical-align: top;\n",
       "    }\n",
       "\n",
       "    .dataframe thead th {\n",
       "        text-align: right;\n",
       "    }\n",
       "</style>\n",
       "<table border=\"1\" class=\"dataframe\">\n",
       "  <thead>\n",
       "    <tr style=\"text-align: right;\">\n",
       "      <th></th>\n",
       "      <th>УНОМ</th>\n",
       "      <th>Причина</th>\n",
       "      <th>Фактическая дата включения</th>\n",
       "      <th>Фактическая дата отключения</th>\n",
       "    </tr>\n",
       "  </thead>\n",
       "  <tbody>\n",
       "    <tr>\n",
       "      <th>0</th>\n",
       "      <td>28396</td>\n",
       "      <td>Установка приборов КИПиА</td>\n",
       "      <td>2023-11-14 16:00:00.000000</td>\n",
       "      <td>2023-11-14 12:00:00.000000</td>\n",
       "    </tr>\n",
       "    <tr>\n",
       "      <th>1</th>\n",
       "      <td>28399</td>\n",
       "      <td>Установка приборов КИПиА</td>\n",
       "      <td>2023-11-14 16:00:00.000000</td>\n",
       "      <td>2023-11-14 12:00:00.000000</td>\n",
       "    </tr>\n",
       "    <tr>\n",
       "      <th>2</th>\n",
       "      <td>28400</td>\n",
       "      <td>Установка приборов КИПиА</td>\n",
       "      <td>2023-11-14 16:00:00.000000</td>\n",
       "      <td>2023-11-14 12:00:00.000000</td>\n",
       "    </tr>\n",
       "    <tr>\n",
       "      <th>3</th>\n",
       "      <td>2404752</td>\n",
       "      <td>Установка приборов учета</td>\n",
       "      <td>2023-11-30 15:00:00.000000</td>\n",
       "      <td>2023-11-30 13:00:00.000000</td>\n",
       "    </tr>\n",
       "    <tr>\n",
       "      <th>4</th>\n",
       "      <td>18228</td>\n",
       "      <td>Установка приборов учета</td>\n",
       "      <td>2023-11-30 15:00:00.000000</td>\n",
       "      <td>2023-11-30 13:00:00.000000</td>\n",
       "    </tr>\n",
       "    <tr>\n",
       "      <th>...</th>\n",
       "      <td>...</td>\n",
       "      <td>...</td>\n",
       "      <td>...</td>\n",
       "      <td>...</td>\n",
       "    </tr>\n",
       "    <tr>\n",
       "      <th>110</th>\n",
       "      <td>18046</td>\n",
       "      <td>Замена запорной арматуры</td>\n",
       "      <td>2024-04-26 16:00:00.000000</td>\n",
       "      <td>2024-04-26 12:00:00.000000</td>\n",
       "    </tr>\n",
       "    <tr>\n",
       "      <th>111</th>\n",
       "      <td>18039</td>\n",
       "      <td>Замена запорной арматуры</td>\n",
       "      <td>2024-04-26 16:00:00.000000</td>\n",
       "      <td>2024-04-26 12:00:00.000000</td>\n",
       "    </tr>\n",
       "    <tr>\n",
       "      <th>112</th>\n",
       "      <td>18045</td>\n",
       "      <td>Замена запорной арматуры</td>\n",
       "      <td>2024-04-26 16:00:00.000000</td>\n",
       "      <td>2024-04-26 12:00:00.000000</td>\n",
       "    </tr>\n",
       "    <tr>\n",
       "      <th>113</th>\n",
       "      <td>18040</td>\n",
       "      <td>Замена запорной арматуры</td>\n",
       "      <td>2024-04-26 16:00:00.000000</td>\n",
       "      <td>2024-04-26 12:00:00.000000</td>\n",
       "    </tr>\n",
       "    <tr>\n",
       "      <th>114</th>\n",
       "      <td>18037</td>\n",
       "      <td>Замена запорной арматуры</td>\n",
       "      <td>2024-04-26 16:00:00.000000</td>\n",
       "      <td>2024-04-26 12:00:00.000000</td>\n",
       "    </tr>\n",
       "  </tbody>\n",
       "</table>\n",
       "<p>115 rows × 4 columns</p>\n",
       "</div>"
      ]
     },
     "execution_count": 166,
     "metadata": {},
     "output_type": "execute_result"
    }
   ],
   "execution_count": 166
  },
  {
   "metadata": {},
   "cell_type": "markdown",
   "source": "## 8",
   "id": "448621b7d49132a8"
  },
  {
   "metadata": {
    "ExecuteTime": {
     "end_time": "2024-06-12T12:34:53.096355Z",
     "start_time": "2024-06-12T12:34:53.070468Z"
    }
   },
   "cell_type": "code",
   "source": "df8 = pd.read_csv(\"../data/8_data_asupr.csv\")",
   "id": "b39090584dd1e858",
   "outputs": [],
   "execution_count": 207
  },
  {
   "metadata": {
    "ExecuteTime": {
     "end_time": "2024-06-12T12:34:56.682413Z",
     "start_time": "2024-06-12T12:34:56.673390Z"
    }
   },
   "cell_type": "code",
   "source": "df8.head()",
   "id": "2baf0db2dff8ce85",
   "outputs": [
    {
     "data": {
      "text/plain": [
       "       ID УУ                      Адрес  \\\n",
       "0  785480981   10-я Парковая ул., д. 15   \n",
       "1  785481133   10-я Парковая ул., д. 17   \n",
       "2    1881452  10-я Парковая ул., д. 18А   \n",
       "3  785481250    10-я Парковая ул., д. 4   \n",
       "4  785481200    10-я Парковая ул., д. 6   \n",
       "\n",
       "                                 Полный адрес Округ     UNOM  Группа  \\\n",
       "0   город Москва, 10-я Парковая улица, дом 15   ВАО    18777     МКД   \n",
       "1   город Москва, 10-я Парковая улица, дом 17   ВАО    18778     МКД   \n",
       "2  город Москва, 10-я Парковая улица, дом 18А   ВАО  2105327  Бюджет   \n",
       "3    город Москва, 10-я Парковая улица, дом 4   ВАО    18773     МКД   \n",
       "4    город Москва, 10-я Парковая улица, дом 6   ВАО    18775     МКД   \n",
       "\n",
       "               № ОДС                                          Адрес ОДС  \\\n",
       "0  ОДС №27-Измайлово  город Москва, 7-я Парковая улица, дом 15, корп...   \n",
       "1  ОДС №27-Измайлово  город Москва, 7-я Парковая улица, дом 15, корп...   \n",
       "2                NaN                                                NaN   \n",
       "3  ОДС №57-Измайлово           город Москва, 9-я Парковая улица, дом 27   \n",
       "4  ОДС №57-Измайлово           город Москва, 9-я Парковая улица, дом 27   \n",
       "\n",
       "              Потребитель (или УК)             ЦТП  \n",
       "0  ГБУ \"ЖИЛИЩНИК РАЙОНА ИЗМАЙЛОВО\"  04-05-0604/185  \n",
       "1  ГБУ \"ЖИЛИЩНИК РАЙОНА ИЗМАЙЛОВО\"  04-05-0604/185  \n",
       "2                ГКУ ДИРЕКЦИЯ ДОНМ  04-05-0604/124  \n",
       "3  ГБУ \"ЖИЛИЩНИК РАЙОНА ИЗМАЙЛОВО\"  04-05-0604/064  \n",
       "4  ГБУ \"ЖИЛИЩНИК РАЙОНА ИЗМАЙЛОВО\"  04-05-0604/064  "
      ],
      "text/html": [
       "<div>\n",
       "<style scoped>\n",
       "    .dataframe tbody tr th:only-of-type {\n",
       "        vertical-align: middle;\n",
       "    }\n",
       "\n",
       "    .dataframe tbody tr th {\n",
       "        vertical-align: top;\n",
       "    }\n",
       "\n",
       "    .dataframe thead th {\n",
       "        text-align: right;\n",
       "    }\n",
       "</style>\n",
       "<table border=\"1\" class=\"dataframe\">\n",
       "  <thead>\n",
       "    <tr style=\"text-align: right;\">\n",
       "      <th></th>\n",
       "      <th>ID УУ</th>\n",
       "      <th>Адрес</th>\n",
       "      <th>Полный адрес</th>\n",
       "      <th>Округ</th>\n",
       "      <th>UNOM</th>\n",
       "      <th>Группа</th>\n",
       "      <th>№ ОДС</th>\n",
       "      <th>Адрес ОДС</th>\n",
       "      <th>Потребитель (или УК)</th>\n",
       "      <th>ЦТП</th>\n",
       "    </tr>\n",
       "  </thead>\n",
       "  <tbody>\n",
       "    <tr>\n",
       "      <th>0</th>\n",
       "      <td>785480981</td>\n",
       "      <td>10-я Парковая ул., д. 15</td>\n",
       "      <td>город Москва, 10-я Парковая улица, дом 15</td>\n",
       "      <td>ВАО</td>\n",
       "      <td>18777</td>\n",
       "      <td>МКД</td>\n",
       "      <td>ОДС №27-Измайлово</td>\n",
       "      <td>город Москва, 7-я Парковая улица, дом 15, корп...</td>\n",
       "      <td>ГБУ \"ЖИЛИЩНИК РАЙОНА ИЗМАЙЛОВО\"</td>\n",
       "      <td>04-05-0604/185</td>\n",
       "    </tr>\n",
       "    <tr>\n",
       "      <th>1</th>\n",
       "      <td>785481133</td>\n",
       "      <td>10-я Парковая ул., д. 17</td>\n",
       "      <td>город Москва, 10-я Парковая улица, дом 17</td>\n",
       "      <td>ВАО</td>\n",
       "      <td>18778</td>\n",
       "      <td>МКД</td>\n",
       "      <td>ОДС №27-Измайлово</td>\n",
       "      <td>город Москва, 7-я Парковая улица, дом 15, корп...</td>\n",
       "      <td>ГБУ \"ЖИЛИЩНИК РАЙОНА ИЗМАЙЛОВО\"</td>\n",
       "      <td>04-05-0604/185</td>\n",
       "    </tr>\n",
       "    <tr>\n",
       "      <th>2</th>\n",
       "      <td>1881452</td>\n",
       "      <td>10-я Парковая ул., д. 18А</td>\n",
       "      <td>город Москва, 10-я Парковая улица, дом 18А</td>\n",
       "      <td>ВАО</td>\n",
       "      <td>2105327</td>\n",
       "      <td>Бюджет</td>\n",
       "      <td>NaN</td>\n",
       "      <td>NaN</td>\n",
       "      <td>ГКУ ДИРЕКЦИЯ ДОНМ</td>\n",
       "      <td>04-05-0604/124</td>\n",
       "    </tr>\n",
       "    <tr>\n",
       "      <th>3</th>\n",
       "      <td>785481250</td>\n",
       "      <td>10-я Парковая ул., д. 4</td>\n",
       "      <td>город Москва, 10-я Парковая улица, дом 4</td>\n",
       "      <td>ВАО</td>\n",
       "      <td>18773</td>\n",
       "      <td>МКД</td>\n",
       "      <td>ОДС №57-Измайлово</td>\n",
       "      <td>город Москва, 9-я Парковая улица, дом 27</td>\n",
       "      <td>ГБУ \"ЖИЛИЩНИК РАЙОНА ИЗМАЙЛОВО\"</td>\n",
       "      <td>04-05-0604/064</td>\n",
       "    </tr>\n",
       "    <tr>\n",
       "      <th>4</th>\n",
       "      <td>785481200</td>\n",
       "      <td>10-я Парковая ул., д. 6</td>\n",
       "      <td>город Москва, 10-я Парковая улица, дом 6</td>\n",
       "      <td>ВАО</td>\n",
       "      <td>18775</td>\n",
       "      <td>МКД</td>\n",
       "      <td>ОДС №57-Измайлово</td>\n",
       "      <td>город Москва, 9-я Парковая улица, дом 27</td>\n",
       "      <td>ГБУ \"ЖИЛИЩНИК РАЙОНА ИЗМАЙЛОВО\"</td>\n",
       "      <td>04-05-0604/064</td>\n",
       "    </tr>\n",
       "  </tbody>\n",
       "</table>\n",
       "</div>"
      ]
     },
     "execution_count": 208,
     "metadata": {},
     "output_type": "execute_result"
    }
   ],
   "execution_count": 208
  },
  {
   "metadata": {},
   "cell_type": "markdown",
   "source": "# Prepare initial dataset with features",
   "id": "ba61fcce2e62fd17"
  },
  {
   "metadata": {
    "ExecuteTime": {
     "end_time": "2024-06-12T15:25:16.233938Z",
     "start_time": "2024-06-12T15:25:13.672056Z"
    }
   },
   "cell_type": "code",
   "source": [
    "df_autumn = pd.read_csv(\"../data/events_autumn/events.csv\", delimiter=';')\n",
    "df_spring = pd.read_csv(\"../data/events_spring/events.csv\", delimiter=';')\n",
    "# rename columns to easily access them\n",
    "df_autumn.columns = [\"event\", \"source\", \"date_registry\", \"date_close\", \"district\", \"unom\", \"address\", \"datetime_finish_event\"]\n",
    "df_spring.columns = [\"event\", \"source\", \"date_registry\", \"date_close\", \"district\", \"unom\", \"address\", \"datetime_finish_event\"]\n",
    "df_full = pd.concat([df_autumn, df_spring])"
   ],
   "id": "a8912e7511da80ad",
   "outputs": [],
   "execution_count": 281
  },
  {
   "metadata": {
    "ExecuteTime": {
     "end_time": "2024-06-12T15:25:16.766742Z",
     "start_time": "2024-06-12T15:25:16.235128Z"
    }
   },
   "cell_type": "code",
   "source": [
    "df_full[\"date_registry\"] = pd.to_datetime(df_full[\"date_registry\"]).dt.date\n",
    "df_full[\"date_close\"] = pd.to_datetime(df_full[\"date_close\"]).dt.date"
   ],
   "id": "97aa2d694d99c446",
   "outputs": [],
   "execution_count": 282
  },
  {
   "metadata": {
    "ExecuteTime": {
     "end_time": "2024-06-12T15:25:16.830945Z",
     "start_time": "2024-06-12T15:25:16.767557Z"
    }
   },
   "cell_type": "code",
   "source": "df_full = df_full[df_full.event.isin(target_events)].drop(columns=[\"district\", \"address\", \"source\", \"datetime_finish_event\"])",
   "id": "97663e22a42a7344",
   "outputs": [],
   "execution_count": 283
  },
  {
   "metadata": {
    "ExecuteTime": {
     "end_time": "2024-06-12T15:25:49.588433Z",
     "start_time": "2024-06-12T15:25:49.581163Z"
    }
   },
   "cell_type": "code",
   "source": "df9.head()",
   "id": "95633da3071f158b",
   "outputs": [
    {
     "data": {
      "text/plain": [
       "   Unnamed: 0         Город            Административный округ  \\\n",
       "0          15  город Москва  Восточный административный округ   \n",
       "1          17  город Москва  Восточный административный округ   \n",
       "2          18  город Москва  Восточный административный округ   \n",
       "3          19  город Москва  Восточный административный округ   \n",
       "4          53  город Москва  Восточный административный округ   \n",
       "\n",
       "                    Муниципальный округ Населенный пункт  \\\n",
       "0  муниципальный округ Косино-Ухтомский              NaN   \n",
       "1  муниципальный округ Косино-Ухтомский              NaN   \n",
       "2        муниципальный округ Ивановское              NaN   \n",
       "3        муниципальный округ Ивановское              NaN   \n",
       "4  муниципальный округ Косино-Ухтомский              NaN   \n",
       "\n",
       "                     Улица Тип номера дом Номер дома Номер корпуса  \\\n",
       "0     Златоустовская улица            дом         21           NaN   \n",
       "1  Большая Косинская улица            дом        34В           NaN   \n",
       "2         Зелёный проспект            дом        101           NaN   \n",
       "3         Зелёный проспект            дом        103           NaN   \n",
       "4       улица Чёрное Озеро            дом          7             1   \n",
       "\n",
       "  Тип номера строения/сооружения Номер строения  Unnamed: 11  Unnamed: 12  \\\n",
       "0                            NaN            NaN         8450            1   \n",
       "1                            NaN            NaN        51067            1   \n",
       "2                            NaN            NaN         8425            1   \n",
       "3                            NaN            NaN         8426            1   \n",
       "4                            NaN            NaN        28680            1   \n",
       "\n",
       "     Материал                     Назначение  Класс     Тип  Этажность  \\\n",
       "0         NaN                            NaN  жилые  Здание        NaN   \n",
       "1  деревянные  индивидуальное жилое строение  жилые  Здание        1.0   \n",
       "2         NaN                            NaN  жилые  Здание        NaN   \n",
       "3         NaN                            NaN  жилые  Здание        NaN   \n",
       "4         NaN                            NaN  жилые  Здание        NaN   \n",
       "\n",
       "   Признак Общая площадь  \n",
       "0      NaN           NaN  \n",
       "1      NaN          90,1  \n",
       "2      NaN           NaN  \n",
       "3      NaN           NaN  \n",
       "4      NaN           NaN  "
      ],
      "text/html": [
       "<div>\n",
       "<style scoped>\n",
       "    .dataframe tbody tr th:only-of-type {\n",
       "        vertical-align: middle;\n",
       "    }\n",
       "\n",
       "    .dataframe tbody tr th {\n",
       "        vertical-align: top;\n",
       "    }\n",
       "\n",
       "    .dataframe thead th {\n",
       "        text-align: right;\n",
       "    }\n",
       "</style>\n",
       "<table border=\"1\" class=\"dataframe\">\n",
       "  <thead>\n",
       "    <tr style=\"text-align: right;\">\n",
       "      <th></th>\n",
       "      <th>Unnamed: 0</th>\n",
       "      <th>Город</th>\n",
       "      <th>Административный округ</th>\n",
       "      <th>Муниципальный округ</th>\n",
       "      <th>Населенный пункт</th>\n",
       "      <th>Улица</th>\n",
       "      <th>Тип номера дом</th>\n",
       "      <th>Номер дома</th>\n",
       "      <th>Номер корпуса</th>\n",
       "      <th>Тип номера строения/сооружения</th>\n",
       "      <th>Номер строения</th>\n",
       "      <th>Unnamed: 11</th>\n",
       "      <th>Unnamed: 12</th>\n",
       "      <th>Материал</th>\n",
       "      <th>Назначение</th>\n",
       "      <th>Класс</th>\n",
       "      <th>Тип</th>\n",
       "      <th>Этажность</th>\n",
       "      <th>Признак</th>\n",
       "      <th>Общая площадь</th>\n",
       "    </tr>\n",
       "  </thead>\n",
       "  <tbody>\n",
       "    <tr>\n",
       "      <th>0</th>\n",
       "      <td>15</td>\n",
       "      <td>город Москва</td>\n",
       "      <td>Восточный административный округ</td>\n",
       "      <td>муниципальный округ Косино-Ухтомский</td>\n",
       "      <td>NaN</td>\n",
       "      <td>Златоустовская улица</td>\n",
       "      <td>дом</td>\n",
       "      <td>21</td>\n",
       "      <td>NaN</td>\n",
       "      <td>NaN</td>\n",
       "      <td>NaN</td>\n",
       "      <td>8450</td>\n",
       "      <td>1</td>\n",
       "      <td>NaN</td>\n",
       "      <td>NaN</td>\n",
       "      <td>жилые</td>\n",
       "      <td>Здание</td>\n",
       "      <td>NaN</td>\n",
       "      <td>NaN</td>\n",
       "      <td>NaN</td>\n",
       "    </tr>\n",
       "    <tr>\n",
       "      <th>1</th>\n",
       "      <td>17</td>\n",
       "      <td>город Москва</td>\n",
       "      <td>Восточный административный округ</td>\n",
       "      <td>муниципальный округ Косино-Ухтомский</td>\n",
       "      <td>NaN</td>\n",
       "      <td>Большая Косинская улица</td>\n",
       "      <td>дом</td>\n",
       "      <td>34В</td>\n",
       "      <td>NaN</td>\n",
       "      <td>NaN</td>\n",
       "      <td>NaN</td>\n",
       "      <td>51067</td>\n",
       "      <td>1</td>\n",
       "      <td>деревянные</td>\n",
       "      <td>индивидуальное жилое строение</td>\n",
       "      <td>жилые</td>\n",
       "      <td>Здание</td>\n",
       "      <td>1.0</td>\n",
       "      <td>NaN</td>\n",
       "      <td>90,1</td>\n",
       "    </tr>\n",
       "    <tr>\n",
       "      <th>2</th>\n",
       "      <td>18</td>\n",
       "      <td>город Москва</td>\n",
       "      <td>Восточный административный округ</td>\n",
       "      <td>муниципальный округ Ивановское</td>\n",
       "      <td>NaN</td>\n",
       "      <td>Зелёный проспект</td>\n",
       "      <td>дом</td>\n",
       "      <td>101</td>\n",
       "      <td>NaN</td>\n",
       "      <td>NaN</td>\n",
       "      <td>NaN</td>\n",
       "      <td>8425</td>\n",
       "      <td>1</td>\n",
       "      <td>NaN</td>\n",
       "      <td>NaN</td>\n",
       "      <td>жилые</td>\n",
       "      <td>Здание</td>\n",
       "      <td>NaN</td>\n",
       "      <td>NaN</td>\n",
       "      <td>NaN</td>\n",
       "    </tr>\n",
       "    <tr>\n",
       "      <th>3</th>\n",
       "      <td>19</td>\n",
       "      <td>город Москва</td>\n",
       "      <td>Восточный административный округ</td>\n",
       "      <td>муниципальный округ Ивановское</td>\n",
       "      <td>NaN</td>\n",
       "      <td>Зелёный проспект</td>\n",
       "      <td>дом</td>\n",
       "      <td>103</td>\n",
       "      <td>NaN</td>\n",
       "      <td>NaN</td>\n",
       "      <td>NaN</td>\n",
       "      <td>8426</td>\n",
       "      <td>1</td>\n",
       "      <td>NaN</td>\n",
       "      <td>NaN</td>\n",
       "      <td>жилые</td>\n",
       "      <td>Здание</td>\n",
       "      <td>NaN</td>\n",
       "      <td>NaN</td>\n",
       "      <td>NaN</td>\n",
       "    </tr>\n",
       "    <tr>\n",
       "      <th>4</th>\n",
       "      <td>53</td>\n",
       "      <td>город Москва</td>\n",
       "      <td>Восточный административный округ</td>\n",
       "      <td>муниципальный округ Косино-Ухтомский</td>\n",
       "      <td>NaN</td>\n",
       "      <td>улица Чёрное Озеро</td>\n",
       "      <td>дом</td>\n",
       "      <td>7</td>\n",
       "      <td>1</td>\n",
       "      <td>NaN</td>\n",
       "      <td>NaN</td>\n",
       "      <td>28680</td>\n",
       "      <td>1</td>\n",
       "      <td>NaN</td>\n",
       "      <td>NaN</td>\n",
       "      <td>жилые</td>\n",
       "      <td>Здание</td>\n",
       "      <td>NaN</td>\n",
       "      <td>NaN</td>\n",
       "      <td>NaN</td>\n",
       "    </tr>\n",
       "  </tbody>\n",
       "</table>\n",
       "</div>"
      ]
     },
     "execution_count": 286,
     "metadata": {},
     "output_type": "execute_result"
    }
   ],
   "execution_count": 286
  },
  {
   "metadata": {
    "ExecuteTime": {
     "end_time": "2024-06-12T15:26:54.803935Z",
     "start_time": "2024-06-12T15:26:54.754177Z"
    }
   },
   "cell_type": "code",
   "source": [
    "df_full = pd.merge(df_full, df9, how=\"left\")\n",
    "df_full = df_full.merge(df11_district, how=\"left\")"
   ],
   "id": "bbe3a7ec1e8f2a45",
   "outputs": [],
   "execution_count": 290
  },
  {
   "metadata": {
    "ExecuteTime": {
     "end_time": "2024-06-12T15:23:50.345282Z",
     "start_time": "2024-06-12T15:23:50.266443Z"
    }
   },
   "cell_type": "code",
   "source": "df11_district = df11[[\"UNOM\", \"Район\"]].drop_duplicates()",
   "id": "fbb1fced2bcb3ebd",
   "outputs": [],
   "execution_count": 277
  },
  {
   "metadata": {
    "ExecuteTime": {
     "end_time": "2024-06-12T15:23:55.444156Z",
     "start_time": "2024-06-12T15:23:55.441774Z"
    }
   },
   "cell_type": "code",
   "source": "df11_district.columns = [\"unom\", \"district\"]",
   "id": "ba162c1f6a71cc5b",
   "outputs": [],
   "execution_count": 278
  },
  {
   "metadata": {
    "ExecuteTime": {
     "end_time": "2024-06-12T15:27:00.481672Z",
     "start_time": "2024-06-12T15:27:00.473515Z"
    }
   },
   "cell_type": "code",
   "source": "df_full",
   "id": "5f99f28d4ca5f56c",
   "outputs": [
    {
     "data": {
      "text/plain": [
       "                                     event date_registry  date_close    unom  \\\n",
       "0  Температура в квартире ниже нормативной    2023-10-08  2023-10-08  8171.0   \n",
       "1  Температура в квартире ниже нормативной    2023-10-08  2023-10-08  8171.0   \n",
       "2  Температура в квартире ниже нормативной    2023-10-09  2023-10-09  8171.0   \n",
       "3  Температура в квартире ниже нормативной    2023-10-09  2023-10-09  8171.0   \n",
       "4  Температура в квартире ниже нормативной    2023-10-27  2023-10-27  8171.0   \n",
       "\n",
       "    material              purpose  class        district  \n",
       "0  кирпичные  многоквартирный дом  жилые  Преображенское  \n",
       "1  кирпичные  многоквартирный дом  жилые  Преображенское  \n",
       "2  кирпичные  многоквартирный дом  жилые  Преображенское  \n",
       "3  кирпичные  многоквартирный дом  жилые  Преображенское  \n",
       "4  кирпичные  многоквартирный дом  жилые  Преображенское  "
      ],
      "text/html": [
       "<div>\n",
       "<style scoped>\n",
       "    .dataframe tbody tr th:only-of-type {\n",
       "        vertical-align: middle;\n",
       "    }\n",
       "\n",
       "    .dataframe tbody tr th {\n",
       "        vertical-align: top;\n",
       "    }\n",
       "\n",
       "    .dataframe thead th {\n",
       "        text-align: right;\n",
       "    }\n",
       "</style>\n",
       "<table border=\"1\" class=\"dataframe\">\n",
       "  <thead>\n",
       "    <tr style=\"text-align: right;\">\n",
       "      <th></th>\n",
       "      <th>event</th>\n",
       "      <th>date_registry</th>\n",
       "      <th>date_close</th>\n",
       "      <th>unom</th>\n",
       "      <th>material</th>\n",
       "      <th>purpose</th>\n",
       "      <th>class</th>\n",
       "      <th>district</th>\n",
       "    </tr>\n",
       "  </thead>\n",
       "  <tbody>\n",
       "    <tr>\n",
       "      <th>0</th>\n",
       "      <td>Температура в квартире ниже нормативной</td>\n",
       "      <td>2023-10-08</td>\n",
       "      <td>2023-10-08</td>\n",
       "      <td>8171.0</td>\n",
       "      <td>кирпичные</td>\n",
       "      <td>многоквартирный дом</td>\n",
       "      <td>жилые</td>\n",
       "      <td>Преображенское</td>\n",
       "    </tr>\n",
       "    <tr>\n",
       "      <th>1</th>\n",
       "      <td>Температура в квартире ниже нормативной</td>\n",
       "      <td>2023-10-08</td>\n",
       "      <td>2023-10-08</td>\n",
       "      <td>8171.0</td>\n",
       "      <td>кирпичные</td>\n",
       "      <td>многоквартирный дом</td>\n",
       "      <td>жилые</td>\n",
       "      <td>Преображенское</td>\n",
       "    </tr>\n",
       "    <tr>\n",
       "      <th>2</th>\n",
       "      <td>Температура в квартире ниже нормативной</td>\n",
       "      <td>2023-10-09</td>\n",
       "      <td>2023-10-09</td>\n",
       "      <td>8171.0</td>\n",
       "      <td>кирпичные</td>\n",
       "      <td>многоквартирный дом</td>\n",
       "      <td>жилые</td>\n",
       "      <td>Преображенское</td>\n",
       "    </tr>\n",
       "    <tr>\n",
       "      <th>3</th>\n",
       "      <td>Температура в квартире ниже нормативной</td>\n",
       "      <td>2023-10-09</td>\n",
       "      <td>2023-10-09</td>\n",
       "      <td>8171.0</td>\n",
       "      <td>кирпичные</td>\n",
       "      <td>многоквартирный дом</td>\n",
       "      <td>жилые</td>\n",
       "      <td>Преображенское</td>\n",
       "    </tr>\n",
       "    <tr>\n",
       "      <th>4</th>\n",
       "      <td>Температура в квартире ниже нормативной</td>\n",
       "      <td>2023-10-27</td>\n",
       "      <td>2023-10-27</td>\n",
       "      <td>8171.0</td>\n",
       "      <td>кирпичные</td>\n",
       "      <td>многоквартирный дом</td>\n",
       "      <td>жилые</td>\n",
       "      <td>Преображенское</td>\n",
       "    </tr>\n",
       "  </tbody>\n",
       "</table>\n",
       "</div>"
      ]
     },
     "execution_count": 291,
     "metadata": {},
     "output_type": "execute_result"
    }
   ],
   "execution_count": 291
  },
  {
   "metadata": {
    "ExecuteTime": {
     "end_time": "2024-06-12T15:13:14.520632Z",
     "start_time": "2024-06-12T15:13:14.517495Z"
    }
   },
   "cell_type": "code",
   "source": "df_full[\"unom\"] = df_full[\"unom\"].astype(\"int\")",
   "id": "5532aa39a3e52818",
   "outputs": [],
   "execution_count": 256
  },
  {
   "metadata": {
    "ExecuteTime": {
     "end_time": "2024-06-12T15:14:21.834312Z",
     "start_time": "2024-06-12T15:14:21.812931Z"
    }
   },
   "cell_type": "code",
   "source": "np.round(df_full.event.value_counts() / df_full.event.value_counts().sum() * 100, 2)",
   "id": "f0859a6b6865c86e",
   "outputs": [
    {
     "data": {
      "text/plain": [
       "event\n",
       "Температура в квартире ниже нормативной                        88.23\n",
       "T1 > max                                                        4.62\n",
       "Отсутствие отопления в доме                                     2.12\n",
       "P1 <= 0                                                         1.32\n",
       "T1 < min                                                        1.26\n",
       "Сильная течь в системе отопления                                0.61\n",
       "Температура в помещении общего пользования ниже нормативной     0.59\n",
       "Течь в системе отопления                                        0.53\n",
       "P2 <= 0                                                         0.44\n",
       "Протечка труб в подъезде                                        0.27\n",
       "Аварийная протечка труб в подъезде                              0.00\n",
       "Крупные пожары                                                  0.00\n",
       "Name: count, dtype: float64"
      ]
     },
     "execution_count": 262,
     "metadata": {},
     "output_type": "execute_result"
    }
   ],
   "execution_count": 262
  },
  {
   "metadata": {
    "ExecuteTime": {
     "end_time": "2024-06-12T15:27:23.118580Z",
     "start_time": "2024-06-12T15:27:23.114796Z"
    }
   },
   "cell_type": "code",
   "source": [
    "def events_with_filters(df, district):\n",
    "    filter_df = df[df[\"district\"] == district]\n",
    "    \n",
    "    event_distribution = np.round(filter_df.event.value_counts() / filter_df.event.value_counts().sum() * 100, 2)\n",
    "    \n",
    "    return event_distribution"
   ],
   "id": "5e95593d0719800a",
   "outputs": [],
   "execution_count": 292
  },
  {
   "metadata": {
    "ExecuteTime": {
     "end_time": "2024-06-12T15:27:49.210158Z",
     "start_time": "2024-06-12T15:27:49.200119Z"
    }
   },
   "cell_type": "code",
   "source": "df_full.district.unique()",
   "id": "a6c6ad15de0879c1",
   "outputs": [
    {
     "data": {
      "text/plain": [
       "array(['Преображенское', 'Измайлово', nan, 'Богородское', 'Новогиреево',\n",
       "       'Перово', 'Метрогородок', 'Восточное Измайлово', 'Ивановское',\n",
       "       'Вешняки', 'Гольяново', 'Северное Измайлово', 'Соколиная Гора',\n",
       "       'Сокольники', 'Косино-Ухтомский', 'Новокосино', 'Восточный'],\n",
       "      dtype=object)"
      ]
     },
     "execution_count": 294,
     "metadata": {},
     "output_type": "execute_result"
    }
   ],
   "execution_count": 294
  },
  {
   "metadata": {
    "ExecuteTime": {
     "end_time": "2024-06-12T15:28:03.609550Z",
     "start_time": "2024-06-12T15:28:03.592804Z"
    }
   },
   "cell_type": "code",
   "source": "events_with_filters(df_full, \"Новогиреево\")",
   "id": "cde21c7e2cdcf7a0",
   "outputs": [
    {
     "data": {
      "text/plain": [
       "event\n",
       "Температура в квартире ниже нормативной                        92.98\n",
       "T1 > max                                                        2.74\n",
       "Отсутствие отопления в доме                                     1.71\n",
       "T1 < min                                                        1.21\n",
       "Сильная течь в системе отопления                                0.42\n",
       "Течь в системе отопления                                        0.37\n",
       "Температура в помещении общего пользования ниже нормативной     0.34\n",
       "Протечка труб в подъезде                                        0.22\n",
       "P1 <= 0                                                         0.01\n",
       "Аварийная протечка труб в подъезде                              0.01\n",
       "Name: count, dtype: float64"
      ]
     },
     "execution_count": 297,
     "metadata": {},
     "output_type": "execute_result"
    }
   ],
   "execution_count": 297
  }
 ],
 "metadata": {
  "kernelspec": {
   "display_name": "Python 3",
   "language": "python",
   "name": "python3"
  },
  "language_info": {
   "codemirror_mode": {
    "name": "ipython",
    "version": 2
   },
   "file_extension": ".py",
   "mimetype": "text/x-python",
   "name": "python",
   "nbconvert_exporter": "python",
   "pygments_lexer": "ipython2",
   "version": "2.7.6"
  }
 },
 "nbformat": 4,
 "nbformat_minor": 5
}
