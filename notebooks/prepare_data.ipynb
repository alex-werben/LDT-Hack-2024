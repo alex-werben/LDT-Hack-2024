{
 "cells": [
  {
   "cell_type": "code",
   "id": "initial_id",
   "metadata": {
    "collapsed": true,
    "ExecuteTime": {
     "end_time": "2024-06-12T15:53:42.009078Z",
     "start_time": "2024-06-12T15:53:41.266565Z"
    }
   },
   "source": [
    "import pandas as pd\n",
    "import numpy as np\n",
    "from sklearn.model_selection import train_test_split"
   ],
   "outputs": [],
   "execution_count": 1
  },
  {
   "metadata": {},
   "cell_type": "markdown",
   "source": "# Базовый датафрейм",
   "id": "838499d57c051b46"
  },
  {
   "metadata": {
    "ExecuteTime": {
     "end_time": "2024-06-12T15:53:42.012995Z",
     "start_time": "2024-06-12T15:53:42.010593Z"
    }
   },
   "cell_type": "code",
   "source": [
    "target_events = [\"P1 <= 0\",\n",
    "                \"P2 <= 0\",\n",
    "                \"T1 > max\",\n",
    "                \"T1 < min\",\n",
    "                \"Авария\",\n",
    "                \"Недостаточная температура подачи в центральном отоплении (Недотоп)\",\n",
    "                \"Превышение температуры подачи в центральном отоплении (Перетоп)\",\n",
    "                \"Утечка теплоносителя\",\n",
    "                \"Температура в квартире ниже нормативной\",\n",
    "                \"Отсутствие отопления в доме\",\n",
    "                \"Крупные пожары\",\n",
    "                \"Температура в помещении общего пользования ниже нормативной\",\n",
    "                \"Аварийная протечка труб в подъезде\",\n",
    "                \"Протечка труб в подъезде\",\n",
    "                \"Течь в системе отопления\",\n",
    "                \"Сильная течь в системе отопления\"]"
   ],
   "id": "1d867a55119b590f",
   "outputs": [],
   "execution_count": 2
  },
  {
   "metadata": {
    "ExecuteTime": {
     "end_time": "2024-06-12T15:53:45.338800Z",
     "start_time": "2024-06-12T15:53:42.013800Z"
    }
   },
   "cell_type": "code",
   "source": [
    "df_autumn = pd.read_csv(\"../data/events_autumn/events.csv\", delimiter=';')\n",
    "df_spring = pd.read_csv(\"../data/events_spring/events.csv\", delimiter=';')\n",
    "# rename columns to easily access them\n",
    "df_autumn.columns = [\"event\", \"source\", \"date_registry\", \"date_close\", \"district\", \"unom\", \"address\", \"datetime_finish_event\"]\n",
    "df_spring.columns = [\"event\", \"source\", \"date_registry\", \"date_close\", \"district\", \"unom\", \"address\", \"datetime_finish_event\"]\n",
    "events_df = pd.concat([df_autumn, df_spring])\n",
    "events_df[\"date_registry\"] = pd.to_datetime(events_df[\"date_registry\"]).dt.date\n",
    "events_df[\"date_close\"] = pd.to_datetime(events_df[\"date_close\"]).dt.date\n",
    "events_df = events_df[events_df.event.isin(target_events)].drop(columns=[\"district\", \"address\", \"source\", \"datetime_finish_event\"])\n",
    "events_df = events_df[[\"unom\", \"event\", \"date_registry\", \"date_close\"]]"
   ],
   "id": "a1b8ba3fe24c443b",
   "outputs": [],
   "execution_count": 3
  },
  {
   "metadata": {
    "ExecuteTime": {
     "end_time": "2024-06-12T15:53:47.576225Z",
     "start_time": "2024-06-12T15:53:45.339828Z"
    }
   },
   "cell_type": "code",
   "source": [
    "building_info_df = pd.read_excel(\"../raw/9. Выгрузка БТИ.xlsx\", skiprows=1)\n",
    "building_info_df = building_info_df[[\"Unnamed: 11\", \"Материал\", \"Назначение\", \"Класс\"]]\n",
    "building_info_df.columns = [\"unom\", \"material\", \"purpose\", \"class\"]"
   ],
   "id": "3554af5378e67127",
   "outputs": [],
   "execution_count": 4
  },
  {
   "metadata": {
    "ExecuteTime": {
     "end_time": "2024-06-12T16:08:24.421631Z",
     "start_time": "2024-06-12T16:08:22.114345Z"
    }
   },
   "cell_type": "code",
   "source": [
    "districts_df = pd.read_csv(\"../data/11_chauffage.csv\")\n",
    "# df11 = df11[[\"UNOM\", \"Район\", \"Месяц/Год\", \"Объём поданого теплоносителя в систему ЦО\", \"Объём обратного теплоносителя из системы ЦО\",\n",
    "#       \"Разница между подачей и обраткой(Подмес)\", \"Разница между подачей и обраткой(Утечка)\", \"Температура подачи\",\n",
    "#       \"Температура обратки\", \"Наработка часов счётчика\", \"Расход тепловой энергии \", \"Ошибки\"]]\n",
    "districts_df = districts_df[[\"UNOM\", \"Район\"]]\n",
    "districts_df = districts_df[[\"UNOM\", \"Район\"]].drop_duplicates()\n",
    "districts_df.columns = [\"unom\", \"district\"]"
   ],
   "id": "7a7d14caad3fba22",
   "outputs": [],
   "execution_count": 24
  },
  {
   "metadata": {
    "ExecuteTime": {
     "end_time": "2024-06-12T15:53:50.086839Z",
     "start_time": "2024-06-12T15:53:50.047502Z"
    }
   },
   "cell_type": "code",
   "source": [
    "df = pd.merge(events_df, building_info_df, how=\"left\")\n",
    "df = df.merge(districts_df, how=\"left\")"
   ],
   "id": "c5bbbbadf626d9e2",
   "outputs": [],
   "execution_count": 6
  },
  {
   "metadata": {},
   "cell_type": "markdown",
   "source": "# Функции",
   "id": "7666d2a5c8e8da5a"
  },
  {
   "metadata": {
    "ExecuteTime": {
     "end_time": "2024-06-12T15:53:50.090510Z",
     "start_time": "2024-06-12T15:53:50.087703Z"
    }
   },
   "cell_type": "code",
   "source": [
    "def get_event_probabilities_by_district(df, district):\n",
    "    filter_df = df[df[\"district\"] == district]\n",
    "    \n",
    "    event_distribution = np.round(filter_df.event.value_counts() / filter_df.event.value_counts().sum() * 100, 2)\n",
    "    \n",
    "    return event_distribution\n",
    "\n",
    "def get_event_probabilities(df):\n",
    "    result_df = df.event.value_counts() / df.event.value_counts().sum()\n",
    "    \n",
    "    result_df = np.round(result_df * 100, 2)\n",
    "    \n",
    "    return result_df"
   ],
   "id": "d2672208fec63629",
   "outputs": [],
   "execution_count": 7
  },
  {
   "metadata": {
    "ExecuteTime": {
     "end_time": "2024-06-12T15:53:50.108454Z",
     "start_time": "2024-06-12T15:53:50.091192Z"
    }
   },
   "cell_type": "code",
   "source": "get_event_probabilities(df)",
   "id": "ffb5c48c2e4cc831",
   "outputs": [
    {
     "data": {
      "text/plain": [
       "event\n",
       "Температура в квартире ниже нормативной                        88.23\n",
       "T1 > max                                                        4.62\n",
       "Отсутствие отопления в доме                                     2.12\n",
       "P1 <= 0                                                         1.32\n",
       "T1 < min                                                        1.26\n",
       "Сильная течь в системе отопления                                0.61\n",
       "Температура в помещении общего пользования ниже нормативной     0.59\n",
       "Течь в системе отопления                                        0.53\n",
       "P2 <= 0                                                         0.44\n",
       "Протечка труб в подъезде                                        0.27\n",
       "Аварийная протечка труб в подъезде                              0.00\n",
       "Крупные пожары                                                  0.00\n",
       "Name: count, dtype: float64"
      ]
     },
     "execution_count": 8,
     "metadata": {},
     "output_type": "execute_result"
    }
   ],
   "execution_count": 8
  },
  {
   "metadata": {
    "ExecuteTime": {
     "end_time": "2024-06-12T15:53:50.115586Z",
     "start_time": "2024-06-12T15:53:50.109329Z"
    }
   },
   "cell_type": "code",
   "source": "df.district.unique()",
   "id": "588ccdee2af89ea6",
   "outputs": [
    {
     "data": {
      "text/plain": [
       "array(['Преображенское', 'Измайлово', nan, 'Богородское', 'Новогиреево',\n",
       "       'Перово', 'Метрогородок', 'Восточное Измайлово', 'Ивановское',\n",
       "       'Вешняки', 'Гольяново', 'Северное Измайлово', 'Соколиная Гора',\n",
       "       'Сокольники', 'Косино-Ухтомский', 'Новокосино', 'Восточный'],\n",
       "      dtype=object)"
      ]
     },
     "execution_count": 9,
     "metadata": {},
     "output_type": "execute_result"
    }
   ],
   "execution_count": 9
  },
  {
   "metadata": {
    "ExecuteTime": {
     "end_time": "2024-06-12T15:53:50.125967Z",
     "start_time": "2024-06-12T15:53:50.116328Z"
    }
   },
   "cell_type": "code",
   "source": "get_event_probabilities_by_district(df, \"Ивановское\")",
   "id": "22c1645ae1d30d29",
   "outputs": [
    {
     "data": {
      "text/plain": [
       "event\n",
       "Температура в квартире ниже нормативной                        89.82\n",
       "T1 > max                                                        2.40\n",
       "Отсутствие отопления в доме                                     2.24\n",
       "T1 < min                                                        2.17\n",
       "Температура в помещении общего пользования ниже нормативной     1.03\n",
       "Сильная течь в системе отопления                                0.80\n",
       "Течь в системе отопления                                        0.56\n",
       "P2 <= 0                                                         0.53\n",
       "Протечка труб в подъезде                                        0.38\n",
       "P1 <= 0                                                         0.06\n",
       "Name: count, dtype: float64"
      ]
     },
     "execution_count": 10,
     "metadata": {},
     "output_type": "execute_result"
    }
   ],
   "execution_count": 10
  },
  {
   "metadata": {},
   "cell_type": "markdown",
   "source": [
    "# Бинарный классификатор для каждого события отдельно\n",
    "* на большом кол-ве событий - модель\n",
    "* на малом могут быть правила"
   ],
   "id": "41a9bdde39c64c72"
  },
  {
   "metadata": {
    "ExecuteTime": {
     "end_time": "2024-06-12T16:17:56.584001Z",
     "start_time": "2024-06-12T16:17:56.567343Z"
    }
   },
   "cell_type": "code",
   "source": [
    "# 1. Данные для одного события\n",
    "df_bin = df[df.event == \"Температура в квартире ниже нормативной\"]\n",
    "df_bin[\"label\"] = 1"
   ],
   "id": "c8d215a26723a8e",
   "outputs": [
    {
     "name": "stderr",
     "output_type": "stream",
     "text": [
      "/var/folders/3h/dhhfcbhd3pl2ss8czvd22c080000gn/T/ipykernel_13555/2957183093.py:3: SettingWithCopyWarning: \n",
      "A value is trying to be set on a copy of a slice from a DataFrame.\n",
      "Try using .loc[row_indexer,col_indexer] = value instead\n",
      "\n",
      "See the caveats in the documentation: https://pandas.pydata.org/pandas-docs/stable/user_guide/indexing.html#returning-a-view-versus-a-copy\n",
      "  df_bin[\"label\"] = 1\n"
     ]
    }
   ],
   "execution_count": 52
  },
  {
   "metadata": {
    "ExecuteTime": {
     "end_time": "2024-06-12T16:13:53.964027Z",
     "start_time": "2024-06-12T16:13:53.960041Z"
    }
   },
   "cell_type": "code",
   "source": [
    "# 2. Добавить домов, у которых этого события не было\n",
    "# В 11 приложении есть все дома из ВАО, у которых было отопление\n",
    "no_event_df = districts_df[~districts_df.unom.isin(df_bin.unom.unique())]"
   ],
   "id": "68f4a318002fda65",
   "outputs": [],
   "execution_count": 39
  },
  {
   "metadata": {
    "ExecuteTime": {
     "end_time": "2024-06-12T16:17:44.373421Z",
     "start_time": "2024-06-12T16:17:44.362332Z"
    }
   },
   "cell_type": "code",
   "source": [
    "# 3. Нужно подготовить те же признаки\n",
    "# Пусть для начала это будут характеристики дома из 9 приложения\n",
    "no_event_df = no_event_df.merge(building_info_df, how=\"left\")\n",
    "no_event_df[\"label\"] = 0"
   ],
   "id": "6914da963126fd97",
   "outputs": [],
   "execution_count": 51
  },
  {
   "metadata": {
    "ExecuteTime": {
     "end_time": "2024-06-12T16:19:36.046711Z",
     "start_time": "2024-06-12T16:19:36.011603Z"
    }
   },
   "cell_type": "code",
   "source": [
    "# 4. Объединить в общий датафрейм\n",
    "event_df = df_bin[[\"unom\", \"district\", \"material\", \"purpose\", \"class\", \"label\"]]\n",
    "event_df = event_df.drop_duplicates()\n",
    "merge_df = pd.concat([event_df, no_event_df])"
   ],
   "id": "1b4dfe27ee87e59c",
   "outputs": [],
   "execution_count": 60
  },
  {
   "metadata": {},
   "cell_type": "markdown",
   "source": "## Теперь можно попробовать построить классический бинарный классификатор",
   "id": "9bd71c1682b8d5e3"
  },
  {
   "metadata": {
    "ExecuteTime": {
     "end_time": "2024-06-12T16:20:55.898500Z",
     "start_time": "2024-06-12T16:20:55.895004Z"
    }
   },
   "cell_type": "code",
   "source": "from sklearn.model_selection import train_test_split",
   "id": "f6ad7a5cf7662138",
   "outputs": [],
   "execution_count": 63
  },
  {
   "metadata": {
    "ExecuteTime": {
     "end_time": "2024-06-12T16:21:41.879883Z",
     "start_time": "2024-06-12T16:21:41.875286Z"
    }
   },
   "cell_type": "code",
   "source": "merge_df[[\"label\"]]",
   "id": "945af406e64fad05",
   "outputs": [
    {
     "data": {
      "text/plain": [
       "     label\n",
       "0        1\n",
       "6        1\n",
       "13       1\n",
       "18       1\n",
       "46       1\n",
       "..     ...\n",
       "981      0\n",
       "982      0\n",
       "983      0\n",
       "984      0\n",
       "985      0\n",
       "\n",
       "[4850 rows x 1 columns]"
      ],
      "text/html": [
       "<div>\n",
       "<style scoped>\n",
       "    .dataframe tbody tr th:only-of-type {\n",
       "        vertical-align: middle;\n",
       "    }\n",
       "\n",
       "    .dataframe tbody tr th {\n",
       "        vertical-align: top;\n",
       "    }\n",
       "\n",
       "    .dataframe thead th {\n",
       "        text-align: right;\n",
       "    }\n",
       "</style>\n",
       "<table border=\"1\" class=\"dataframe\">\n",
       "  <thead>\n",
       "    <tr style=\"text-align: right;\">\n",
       "      <th></th>\n",
       "      <th>label</th>\n",
       "    </tr>\n",
       "  </thead>\n",
       "  <tbody>\n",
       "    <tr>\n",
       "      <th>0</th>\n",
       "      <td>1</td>\n",
       "    </tr>\n",
       "    <tr>\n",
       "      <th>6</th>\n",
       "      <td>1</td>\n",
       "    </tr>\n",
       "    <tr>\n",
       "      <th>13</th>\n",
       "      <td>1</td>\n",
       "    </tr>\n",
       "    <tr>\n",
       "      <th>18</th>\n",
       "      <td>1</td>\n",
       "    </tr>\n",
       "    <tr>\n",
       "      <th>46</th>\n",
       "      <td>1</td>\n",
       "    </tr>\n",
       "    <tr>\n",
       "      <th>...</th>\n",
       "      <td>...</td>\n",
       "    </tr>\n",
       "    <tr>\n",
       "      <th>981</th>\n",
       "      <td>0</td>\n",
       "    </tr>\n",
       "    <tr>\n",
       "      <th>982</th>\n",
       "      <td>0</td>\n",
       "    </tr>\n",
       "    <tr>\n",
       "      <th>983</th>\n",
       "      <td>0</td>\n",
       "    </tr>\n",
       "    <tr>\n",
       "      <th>984</th>\n",
       "      <td>0</td>\n",
       "    </tr>\n",
       "    <tr>\n",
       "      <th>985</th>\n",
       "      <td>0</td>\n",
       "    </tr>\n",
       "  </tbody>\n",
       "</table>\n",
       "<p>4850 rows × 1 columns</p>\n",
       "</div>"
      ]
     },
     "execution_count": 68,
     "metadata": {},
     "output_type": "execute_result"
    }
   ],
   "execution_count": 68
  },
  {
   "metadata": {
    "ExecuteTime": {
     "end_time": "2024-06-12T16:22:15.034280Z",
     "start_time": "2024-06-12T16:22:15.030295Z"
    }
   },
   "cell_type": "code",
   "source": "X, y = merge_df[[\"unom\", \"district\", \"material\", \"purpose\", \"class\"]], merge_df[\"label\"]",
   "id": "6fdb6cab86aca7c5",
   "outputs": [],
   "execution_count": 69
  },
  {
   "metadata": {
    "ExecuteTime": {
     "end_time": "2024-06-12T16:23:43.561893Z",
     "start_time": "2024-06-12T16:23:43.555506Z"
    }
   },
   "cell_type": "code",
   "source": "X_train, X_test, y_train, y_test = train_test_split(X, y, test_size=0.2, random_state=42)",
   "id": "4e1800cb6578db6d",
   "outputs": [],
   "execution_count": 71
  },
  {
   "metadata": {
    "ExecuteTime": {
     "end_time": "2024-06-12T16:25:20.524282Z",
     "start_time": "2024-06-12T16:25:17.277771Z"
    }
   },
   "cell_type": "code",
   "source": "from sklearn.ensemble import RandomForestClassifier",
   "id": "7bd8d8c4a2386679",
   "outputs": [],
   "execution_count": 78
  },
  {
   "metadata": {
    "ExecuteTime": {
     "end_time": "2024-06-12T16:25:35.985388Z",
     "start_time": "2024-06-12T16:25:35.982918Z"
    }
   },
   "cell_type": "code",
   "source": "cls = RandomForestClassifier(n_estimators=100, random_state=42)",
   "id": "54c1e870f44993c2",
   "outputs": [],
   "execution_count": 79
  },
  {
   "metadata": {},
   "cell_type": "code",
   "outputs": [],
   "execution_count": null,
   "source": "",
   "id": "671c6b3c52c8aee2"
  },
  {
   "metadata": {
    "ExecuteTime": {
     "end_time": "2024-06-12T16:25:40.203890Z",
     "start_time": "2024-06-12T16:25:40.165389Z"
    }
   },
   "cell_type": "code",
   "source": "cls.fit(X_train, y_train)",
   "id": "e1e4ed68c4410e91",
   "outputs": [
    {
     "ename": "ValueError",
     "evalue": "could not convert string to float: 'Преображенское'",
     "output_type": "error",
     "traceback": [
      "\u001B[0;31m---------------------------------------------------------------------------\u001B[0m",
      "\u001B[0;31mValueError\u001B[0m                                Traceback (most recent call last)",
      "\u001B[0;32m/var/folders/3h/dhhfcbhd3pl2ss8czvd22c080000gn/T/ipykernel_13555/2771900444.py\u001B[0m in \u001B[0;36m?\u001B[0;34m()\u001B[0m\n\u001B[0;32m----> 1\u001B[0;31m \u001B[0mcls\u001B[0m\u001B[0;34m.\u001B[0m\u001B[0mfit\u001B[0m\u001B[0;34m(\u001B[0m\u001B[0mX_train\u001B[0m\u001B[0;34m,\u001B[0m \u001B[0my_train\u001B[0m\u001B[0;34m)\u001B[0m\u001B[0;34m\u001B[0m\u001B[0;34m\u001B[0m\u001B[0m\n\u001B[0m",
      "\u001B[0;32m/usr/local/lib/python3.11/site-packages/sklearn/base.py\u001B[0m in \u001B[0;36m?\u001B[0;34m(estimator, *args, **kwargs)\u001B[0m\n\u001B[1;32m   1469\u001B[0m                 skip_parameter_validation=(\n\u001B[1;32m   1470\u001B[0m                     \u001B[0mprefer_skip_nested_validation\u001B[0m \u001B[0;32mor\u001B[0m \u001B[0mglobal_skip_validation\u001B[0m\u001B[0;34m\u001B[0m\u001B[0;34m\u001B[0m\u001B[0m\n\u001B[1;32m   1471\u001B[0m                 )\n\u001B[1;32m   1472\u001B[0m             ):\n\u001B[0;32m-> 1473\u001B[0;31m                 \u001B[0;32mreturn\u001B[0m \u001B[0mfit_method\u001B[0m\u001B[0;34m(\u001B[0m\u001B[0mestimator\u001B[0m\u001B[0;34m,\u001B[0m \u001B[0;34m*\u001B[0m\u001B[0margs\u001B[0m\u001B[0;34m,\u001B[0m \u001B[0;34m**\u001B[0m\u001B[0mkwargs\u001B[0m\u001B[0;34m)\u001B[0m\u001B[0;34m\u001B[0m\u001B[0;34m\u001B[0m\u001B[0m\n\u001B[0m",
      "\u001B[0;32m/usr/local/lib/python3.11/site-packages/sklearn/ensemble/_forest.py\u001B[0m in \u001B[0;36m?\u001B[0;34m(self, X, y, sample_weight)\u001B[0m\n\u001B[1;32m    359\u001B[0m         \u001B[0;31m# Validate or convert input data\u001B[0m\u001B[0;34m\u001B[0m\u001B[0;34m\u001B[0m\u001B[0m\n\u001B[1;32m    360\u001B[0m         \u001B[0;32mif\u001B[0m \u001B[0missparse\u001B[0m\u001B[0;34m(\u001B[0m\u001B[0my\u001B[0m\u001B[0;34m)\u001B[0m\u001B[0;34m:\u001B[0m\u001B[0;34m\u001B[0m\u001B[0;34m\u001B[0m\u001B[0m\n\u001B[1;32m    361\u001B[0m             \u001B[0;32mraise\u001B[0m \u001B[0mValueError\u001B[0m\u001B[0;34m(\u001B[0m\u001B[0;34m\"sparse multilabel-indicator for y is not supported.\"\u001B[0m\u001B[0;34m)\u001B[0m\u001B[0;34m\u001B[0m\u001B[0;34m\u001B[0m\u001B[0m\n\u001B[1;32m    362\u001B[0m \u001B[0;34m\u001B[0m\u001B[0m\n\u001B[0;32m--> 363\u001B[0;31m         X, y = self._validate_data(\n\u001B[0m\u001B[1;32m    364\u001B[0m             \u001B[0mX\u001B[0m\u001B[0;34m,\u001B[0m\u001B[0;34m\u001B[0m\u001B[0;34m\u001B[0m\u001B[0m\n\u001B[1;32m    365\u001B[0m             \u001B[0my\u001B[0m\u001B[0;34m,\u001B[0m\u001B[0;34m\u001B[0m\u001B[0;34m\u001B[0m\u001B[0m\n\u001B[1;32m    366\u001B[0m             \u001B[0mmulti_output\u001B[0m\u001B[0;34m=\u001B[0m\u001B[0;32mTrue\u001B[0m\u001B[0;34m,\u001B[0m\u001B[0;34m\u001B[0m\u001B[0;34m\u001B[0m\u001B[0m\n",
      "\u001B[0;32m/usr/local/lib/python3.11/site-packages/sklearn/base.py\u001B[0m in \u001B[0;36m?\u001B[0;34m(self, X, y, reset, validate_separately, cast_to_ndarray, **check_params)\u001B[0m\n\u001B[1;32m    646\u001B[0m                 \u001B[0;32mif\u001B[0m \u001B[0;34m\"estimator\"\u001B[0m \u001B[0;32mnot\u001B[0m \u001B[0;32min\u001B[0m \u001B[0mcheck_y_params\u001B[0m\u001B[0;34m:\u001B[0m\u001B[0;34m\u001B[0m\u001B[0;34m\u001B[0m\u001B[0m\n\u001B[1;32m    647\u001B[0m                     \u001B[0mcheck_y_params\u001B[0m \u001B[0;34m=\u001B[0m \u001B[0;34m{\u001B[0m\u001B[0;34m**\u001B[0m\u001B[0mdefault_check_params\u001B[0m\u001B[0;34m,\u001B[0m \u001B[0;34m**\u001B[0m\u001B[0mcheck_y_params\u001B[0m\u001B[0;34m}\u001B[0m\u001B[0;34m\u001B[0m\u001B[0;34m\u001B[0m\u001B[0m\n\u001B[1;32m    648\u001B[0m                 \u001B[0my\u001B[0m \u001B[0;34m=\u001B[0m \u001B[0mcheck_array\u001B[0m\u001B[0;34m(\u001B[0m\u001B[0my\u001B[0m\u001B[0;34m,\u001B[0m \u001B[0minput_name\u001B[0m\u001B[0;34m=\u001B[0m\u001B[0;34m\"y\"\u001B[0m\u001B[0;34m,\u001B[0m \u001B[0;34m**\u001B[0m\u001B[0mcheck_y_params\u001B[0m\u001B[0;34m)\u001B[0m\u001B[0;34m\u001B[0m\u001B[0;34m\u001B[0m\u001B[0m\n\u001B[1;32m    649\u001B[0m             \u001B[0;32melse\u001B[0m\u001B[0;34m:\u001B[0m\u001B[0;34m\u001B[0m\u001B[0;34m\u001B[0m\u001B[0m\n\u001B[0;32m--> 650\u001B[0;31m                 \u001B[0mX\u001B[0m\u001B[0;34m,\u001B[0m \u001B[0my\u001B[0m \u001B[0;34m=\u001B[0m \u001B[0mcheck_X_y\u001B[0m\u001B[0;34m(\u001B[0m\u001B[0mX\u001B[0m\u001B[0;34m,\u001B[0m \u001B[0my\u001B[0m\u001B[0;34m,\u001B[0m \u001B[0;34m**\u001B[0m\u001B[0mcheck_params\u001B[0m\u001B[0;34m)\u001B[0m\u001B[0;34m\u001B[0m\u001B[0;34m\u001B[0m\u001B[0m\n\u001B[0m\u001B[1;32m    651\u001B[0m             \u001B[0mout\u001B[0m \u001B[0;34m=\u001B[0m \u001B[0mX\u001B[0m\u001B[0;34m,\u001B[0m \u001B[0my\u001B[0m\u001B[0;34m\u001B[0m\u001B[0;34m\u001B[0m\u001B[0m\n\u001B[1;32m    652\u001B[0m \u001B[0;34m\u001B[0m\u001B[0m\n\u001B[1;32m    653\u001B[0m         \u001B[0;32mif\u001B[0m \u001B[0;32mnot\u001B[0m \u001B[0mno_val_X\u001B[0m \u001B[0;32mand\u001B[0m \u001B[0mcheck_params\u001B[0m\u001B[0;34m.\u001B[0m\u001B[0mget\u001B[0m\u001B[0;34m(\u001B[0m\u001B[0;34m\"ensure_2d\"\u001B[0m\u001B[0;34m,\u001B[0m \u001B[0;32mTrue\u001B[0m\u001B[0;34m)\u001B[0m\u001B[0;34m:\u001B[0m\u001B[0;34m\u001B[0m\u001B[0;34m\u001B[0m\u001B[0m\n",
      "\u001B[0;32m/usr/local/lib/python3.11/site-packages/sklearn/utils/validation.py\u001B[0m in \u001B[0;36m?\u001B[0;34m(X, y, accept_sparse, accept_large_sparse, dtype, order, copy, force_all_finite, ensure_2d, allow_nd, multi_output, ensure_min_samples, ensure_min_features, y_numeric, estimator)\u001B[0m\n\u001B[1;32m   1269\u001B[0m         raise ValueError(\n\u001B[1;32m   1270\u001B[0m             \u001B[0;34mf\"{estimator_name} requires y to be passed, but the target y is None\"\u001B[0m\u001B[0;34m\u001B[0m\u001B[0;34m\u001B[0m\u001B[0m\n\u001B[1;32m   1271\u001B[0m         )\n\u001B[1;32m   1272\u001B[0m \u001B[0;34m\u001B[0m\u001B[0m\n\u001B[0;32m-> 1273\u001B[0;31m     X = check_array(\n\u001B[0m\u001B[1;32m   1274\u001B[0m         \u001B[0mX\u001B[0m\u001B[0;34m,\u001B[0m\u001B[0;34m\u001B[0m\u001B[0;34m\u001B[0m\u001B[0m\n\u001B[1;32m   1275\u001B[0m         \u001B[0maccept_sparse\u001B[0m\u001B[0;34m=\u001B[0m\u001B[0maccept_sparse\u001B[0m\u001B[0;34m,\u001B[0m\u001B[0;34m\u001B[0m\u001B[0;34m\u001B[0m\u001B[0m\n\u001B[1;32m   1276\u001B[0m         \u001B[0maccept_large_sparse\u001B[0m\u001B[0;34m=\u001B[0m\u001B[0maccept_large_sparse\u001B[0m\u001B[0;34m,\u001B[0m\u001B[0;34m\u001B[0m\u001B[0;34m\u001B[0m\u001B[0m\n",
      "\u001B[0;32m/usr/local/lib/python3.11/site-packages/sklearn/utils/validation.py\u001B[0m in \u001B[0;36m?\u001B[0;34m(array, accept_sparse, accept_large_sparse, dtype, order, copy, force_all_finite, ensure_2d, allow_nd, ensure_min_samples, ensure_min_features, estimator, input_name)\u001B[0m\n\u001B[1;32m   1004\u001B[0m                         )\n\u001B[1;32m   1005\u001B[0m                     \u001B[0marray\u001B[0m \u001B[0;34m=\u001B[0m \u001B[0mxp\u001B[0m\u001B[0;34m.\u001B[0m\u001B[0mastype\u001B[0m\u001B[0;34m(\u001B[0m\u001B[0marray\u001B[0m\u001B[0;34m,\u001B[0m \u001B[0mdtype\u001B[0m\u001B[0;34m,\u001B[0m \u001B[0mcopy\u001B[0m\u001B[0;34m=\u001B[0m\u001B[0;32mFalse\u001B[0m\u001B[0;34m)\u001B[0m\u001B[0;34m\u001B[0m\u001B[0;34m\u001B[0m\u001B[0m\n\u001B[1;32m   1006\u001B[0m                 \u001B[0;32melse\u001B[0m\u001B[0;34m:\u001B[0m\u001B[0;34m\u001B[0m\u001B[0;34m\u001B[0m\u001B[0m\n\u001B[1;32m   1007\u001B[0m                     \u001B[0marray\u001B[0m \u001B[0;34m=\u001B[0m \u001B[0m_asarray_with_order\u001B[0m\u001B[0;34m(\u001B[0m\u001B[0marray\u001B[0m\u001B[0;34m,\u001B[0m \u001B[0morder\u001B[0m\u001B[0;34m=\u001B[0m\u001B[0morder\u001B[0m\u001B[0;34m,\u001B[0m \u001B[0mdtype\u001B[0m\u001B[0;34m=\u001B[0m\u001B[0mdtype\u001B[0m\u001B[0;34m,\u001B[0m \u001B[0mxp\u001B[0m\u001B[0;34m=\u001B[0m\u001B[0mxp\u001B[0m\u001B[0;34m)\u001B[0m\u001B[0;34m\u001B[0m\u001B[0;34m\u001B[0m\u001B[0m\n\u001B[0;32m-> 1008\u001B[0;31m             \u001B[0;32mexcept\u001B[0m \u001B[0mComplexWarning\u001B[0m \u001B[0;32mas\u001B[0m \u001B[0mcomplex_warning\u001B[0m\u001B[0;34m:\u001B[0m\u001B[0;34m\u001B[0m\u001B[0;34m\u001B[0m\u001B[0m\n\u001B[0m\u001B[1;32m   1009\u001B[0m                 raise ValueError(\n\u001B[1;32m   1010\u001B[0m                     \u001B[0;34m\"Complex data not supported\\n{}\\n\"\u001B[0m\u001B[0;34m.\u001B[0m\u001B[0mformat\u001B[0m\u001B[0;34m(\u001B[0m\u001B[0marray\u001B[0m\u001B[0;34m)\u001B[0m\u001B[0;34m\u001B[0m\u001B[0;34m\u001B[0m\u001B[0m\n\u001B[1;32m   1011\u001B[0m                 ) from complex_warning\n",
      "\u001B[0;32m/usr/local/lib/python3.11/site-packages/sklearn/utils/_array_api.py\u001B[0m in \u001B[0;36m?\u001B[0;34m(array, dtype, order, copy, xp, device)\u001B[0m\n\u001B[1;32m    742\u001B[0m         \u001B[0;31m# Use NumPy API to support order\u001B[0m\u001B[0;34m\u001B[0m\u001B[0;34m\u001B[0m\u001B[0m\n\u001B[1;32m    743\u001B[0m         \u001B[0;32mif\u001B[0m \u001B[0mcopy\u001B[0m \u001B[0;32mis\u001B[0m \u001B[0;32mTrue\u001B[0m\u001B[0;34m:\u001B[0m\u001B[0;34m\u001B[0m\u001B[0;34m\u001B[0m\u001B[0m\n\u001B[1;32m    744\u001B[0m             \u001B[0marray\u001B[0m \u001B[0;34m=\u001B[0m \u001B[0mnumpy\u001B[0m\u001B[0;34m.\u001B[0m\u001B[0marray\u001B[0m\u001B[0;34m(\u001B[0m\u001B[0marray\u001B[0m\u001B[0;34m,\u001B[0m \u001B[0morder\u001B[0m\u001B[0;34m=\u001B[0m\u001B[0morder\u001B[0m\u001B[0;34m,\u001B[0m \u001B[0mdtype\u001B[0m\u001B[0;34m=\u001B[0m\u001B[0mdtype\u001B[0m\u001B[0;34m)\u001B[0m\u001B[0;34m\u001B[0m\u001B[0;34m\u001B[0m\u001B[0m\n\u001B[1;32m    745\u001B[0m         \u001B[0;32melse\u001B[0m\u001B[0;34m:\u001B[0m\u001B[0;34m\u001B[0m\u001B[0;34m\u001B[0m\u001B[0m\n\u001B[0;32m--> 746\u001B[0;31m             \u001B[0marray\u001B[0m \u001B[0;34m=\u001B[0m \u001B[0mnumpy\u001B[0m\u001B[0;34m.\u001B[0m\u001B[0masarray\u001B[0m\u001B[0;34m(\u001B[0m\u001B[0marray\u001B[0m\u001B[0;34m,\u001B[0m \u001B[0morder\u001B[0m\u001B[0;34m=\u001B[0m\u001B[0morder\u001B[0m\u001B[0;34m,\u001B[0m \u001B[0mdtype\u001B[0m\u001B[0;34m=\u001B[0m\u001B[0mdtype\u001B[0m\u001B[0;34m)\u001B[0m\u001B[0;34m\u001B[0m\u001B[0;34m\u001B[0m\u001B[0m\n\u001B[0m\u001B[1;32m    747\u001B[0m \u001B[0;34m\u001B[0m\u001B[0m\n\u001B[1;32m    748\u001B[0m         \u001B[0;31m# At this point array is a NumPy ndarray. We convert it to an array\u001B[0m\u001B[0;34m\u001B[0m\u001B[0;34m\u001B[0m\u001B[0m\n\u001B[1;32m    749\u001B[0m         \u001B[0;31m# container that is consistent with the input's namespace.\u001B[0m\u001B[0;34m\u001B[0m\u001B[0;34m\u001B[0m\u001B[0m\n",
      "\u001B[0;32m/usr/local/lib/python3.11/site-packages/pandas/core/generic.py\u001B[0m in \u001B[0;36m?\u001B[0;34m(self, dtype, copy)\u001B[0m\n\u001B[1;32m   2149\u001B[0m     def __array__(\n\u001B[1;32m   2150\u001B[0m         \u001B[0mself\u001B[0m\u001B[0;34m,\u001B[0m \u001B[0mdtype\u001B[0m\u001B[0;34m:\u001B[0m \u001B[0mnpt\u001B[0m\u001B[0;34m.\u001B[0m\u001B[0mDTypeLike\u001B[0m \u001B[0;34m|\u001B[0m \u001B[0;32mNone\u001B[0m \u001B[0;34m=\u001B[0m \u001B[0;32mNone\u001B[0m\u001B[0;34m,\u001B[0m \u001B[0mcopy\u001B[0m\u001B[0;34m:\u001B[0m \u001B[0mbool_t\u001B[0m \u001B[0;34m|\u001B[0m \u001B[0;32mNone\u001B[0m \u001B[0;34m=\u001B[0m \u001B[0;32mNone\u001B[0m\u001B[0;34m\u001B[0m\u001B[0;34m\u001B[0m\u001B[0m\n\u001B[1;32m   2151\u001B[0m     ) -> np.ndarray:\n\u001B[1;32m   2152\u001B[0m         \u001B[0mvalues\u001B[0m \u001B[0;34m=\u001B[0m \u001B[0mself\u001B[0m\u001B[0;34m.\u001B[0m\u001B[0m_values\u001B[0m\u001B[0;34m\u001B[0m\u001B[0;34m\u001B[0m\u001B[0m\n\u001B[0;32m-> 2153\u001B[0;31m         \u001B[0marr\u001B[0m \u001B[0;34m=\u001B[0m \u001B[0mnp\u001B[0m\u001B[0;34m.\u001B[0m\u001B[0masarray\u001B[0m\u001B[0;34m(\u001B[0m\u001B[0mvalues\u001B[0m\u001B[0;34m,\u001B[0m \u001B[0mdtype\u001B[0m\u001B[0;34m=\u001B[0m\u001B[0mdtype\u001B[0m\u001B[0;34m)\u001B[0m\u001B[0;34m\u001B[0m\u001B[0;34m\u001B[0m\u001B[0m\n\u001B[0m\u001B[1;32m   2154\u001B[0m         if (\n\u001B[1;32m   2155\u001B[0m             \u001B[0mastype_is_view\u001B[0m\u001B[0;34m(\u001B[0m\u001B[0mvalues\u001B[0m\u001B[0;34m.\u001B[0m\u001B[0mdtype\u001B[0m\u001B[0;34m,\u001B[0m \u001B[0marr\u001B[0m\u001B[0;34m.\u001B[0m\u001B[0mdtype\u001B[0m\u001B[0;34m)\u001B[0m\u001B[0;34m\u001B[0m\u001B[0;34m\u001B[0m\u001B[0m\n\u001B[1;32m   2156\u001B[0m             \u001B[0;32mand\u001B[0m \u001B[0musing_copy_on_write\u001B[0m\u001B[0;34m(\u001B[0m\u001B[0;34m)\u001B[0m\u001B[0;34m\u001B[0m\u001B[0;34m\u001B[0m\u001B[0m\n",
      "\u001B[0;31mValueError\u001B[0m: could not convert string to float: 'Преображенское'"
     ]
    }
   ],
   "execution_count": 80
  }
 ],
 "metadata": {
  "kernelspec": {
   "display_name": "Python 3",
   "language": "python",
   "name": "python3"
  },
  "language_info": {
   "codemirror_mode": {
    "name": "ipython",
    "version": 2
   },
   "file_extension": ".py",
   "mimetype": "text/x-python",
   "name": "python",
   "nbconvert_exporter": "python",
   "pygments_lexer": "ipython2",
   "version": "2.7.6"
  }
 },
 "nbformat": 4,
 "nbformat_minor": 5
}
